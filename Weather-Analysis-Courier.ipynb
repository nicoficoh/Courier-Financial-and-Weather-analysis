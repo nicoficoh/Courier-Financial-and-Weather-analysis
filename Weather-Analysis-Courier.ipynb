{
 "cells": [
  {
   "cell_type": "code",
   "execution_count": 1,
   "metadata": {},
   "outputs": [],
   "source": [
    "import numpy as np\n",
    "import pandas as pd\n",
    "import matplotlib.pyplot as plt\n",
    "import seaborn as sns\n",
    "from scipy import stats\n",
    "import matplotlib.pyplot as plt\n",
    "from scipy.optimize import curve_fit\n",
    "from scipy.stats import ttest_ind\n",
    "from matplotlib import pyplot\n",
    "import sys\n",
    "from IPython import display"
   ]
  },
  {
   "cell_type": "markdown",
   "metadata": {},
   "source": [
    "# Weather analysis"
   ]
  },
  {
   "cell_type": "code",
   "execution_count": 2,
   "metadata": {},
   "outputs": [],
   "source": [
    "from IPython import display\n",
    "#display.Image(\"https://frasissime.com/wp-content/uploads/2020/09/frasi-sul-tempo-atmosferico-1200x675.jpg\")"
   ]
  },
  {
   "cell_type": "markdown",
   "metadata": {},
   "source": [
    "The second part of this analysis is taking in account also the weather during my working hours, I'll try to find correlation and interesting insights."
   ]
  },
  {
   "cell_type": "code",
   "execution_count": 3,
   "metadata": {},
   "outputs": [],
   "source": [
    "path = sys.path[0]\n",
    "df= pd.read_csv(path+'/Work_analysis.csv')\n",
    "df['date']=pd.to_datetime(df.date,dayfirst=True)\n",
    "df=df.astype({   #transforming every columns in a usefull type\n",
    "    'etips':'float',\n",
    "    'cash': 'float',\n",
    "    'deliveries':'int64',\n",
    "    'km':'float',\n",
    "    'hrs':'int64',\n",
    "    'earnings':'float',\n",
    "    'net':'float',\n",
    "    'nethrs':'float',\n",
    "    'strhr':'float'\n",
    "    })"
   ]
  },
  {
   "cell_type": "markdown",
   "metadata": {},
   "source": [
    "First of all I upload the previous DataFrame **df** containing statistical data of my activity as a courier."
   ]
  },
  {
   "cell_type": "code",
   "execution_count": 4,
   "metadata": {
    "tags": []
   },
   "outputs": [],
   "source": [
    "import glob\n",
    "path=path+'/meteo_csv'\n",
    "all_files = glob.glob(path+ \"/*.csv\") #every csv is containing weather data over 1 week\n",
    "#using glob I creat a list with all the name of the different .csv meteo files\n",
    "\n",
    "l = []\n",
    "for filename in all_files:\n",
    "    l.append(pd.read_csv(filename, index_col=None, header=0))\n",
    "# I open all the different csv and I put the in one list\n"
   ]
  },
  {
   "cell_type": "code",
   "execution_count": 5,
   "metadata": {},
   "outputs": [
    {
     "data": {
      "text/html": [
       "<div>\n",
       "<style scoped>\n",
       "    .dataframe tbody tr th:only-of-type {\n",
       "        vertical-align: middle;\n",
       "    }\n",
       "\n",
       "    .dataframe tbody tr th {\n",
       "        vertical-align: top;\n",
       "    }\n",
       "\n",
       "    .dataframe thead th {\n",
       "        text-align: right;\n",
       "    }\n",
       "</style>\n",
       "<table border=\"1\" class=\"dataframe\">\n",
       "  <thead>\n",
       "    <tr style=\"text-align: right;\">\n",
       "      <th></th>\n",
       "      <th>time</th>\n",
       "      <th>time_local</th>\n",
       "      <th>temp</th>\n",
       "      <th>dwpt</th>\n",
       "      <th>rhum</th>\n",
       "      <th>prcp</th>\n",
       "      <th>wdir</th>\n",
       "      <th>wspd</th>\n",
       "      <th>wpgt</th>\n",
       "      <th>pres</th>\n",
       "      <th>tsun</th>\n",
       "      <th>coco</th>\n",
       "    </tr>\n",
       "  </thead>\n",
       "  <tbody>\n",
       "    <tr>\n",
       "      <th>0</th>\n",
       "      <td>2021-03-20 23:00:00</td>\n",
       "      <td>2021-03-21 00:00:00</td>\n",
       "      <td>2.1</td>\n",
       "      <td>-3.8</td>\n",
       "      <td>65</td>\n",
       "      <td>0.0</td>\n",
       "      <td>230</td>\n",
       "      <td>24</td>\n",
       "      <td>31.0</td>\n",
       "      <td>1018.9</td>\n",
       "      <td>0</td>\n",
       "      <td>4</td>\n",
       "    </tr>\n",
       "    <tr>\n",
       "      <th>1</th>\n",
       "      <td>2021-03-21 00:00:00</td>\n",
       "      <td>2021-03-21 01:00:00</td>\n",
       "      <td>3.1</td>\n",
       "      <td>-2.8</td>\n",
       "      <td>65</td>\n",
       "      <td>0.0</td>\n",
       "      <td>240</td>\n",
       "      <td>24</td>\n",
       "      <td>35.0</td>\n",
       "      <td>1017.7</td>\n",
       "      <td>0</td>\n",
       "      <td>4</td>\n",
       "    </tr>\n",
       "    <tr>\n",
       "      <th>2</th>\n",
       "      <td>2021-03-21 01:00:00</td>\n",
       "      <td>2021-03-21 02:00:00</td>\n",
       "      <td>3.1</td>\n",
       "      <td>-2.8</td>\n",
       "      <td>65</td>\n",
       "      <td>0.0</td>\n",
       "      <td>240</td>\n",
       "      <td>24</td>\n",
       "      <td>35.0</td>\n",
       "      <td>1016.8</td>\n",
       "      <td>0</td>\n",
       "      <td>4</td>\n",
       "    </tr>\n",
       "    <tr>\n",
       "      <th>3</th>\n",
       "      <td>2021-03-21 02:00:00</td>\n",
       "      <td>2021-03-21 03:00:00</td>\n",
       "      <td>3.1</td>\n",
       "      <td>-0.9</td>\n",
       "      <td>75</td>\n",
       "      <td>0.0</td>\n",
       "      <td>250</td>\n",
       "      <td>26</td>\n",
       "      <td>38.0</td>\n",
       "      <td>1015.6</td>\n",
       "      <td>0</td>\n",
       "      <td>4</td>\n",
       "    </tr>\n",
       "    <tr>\n",
       "      <th>4</th>\n",
       "      <td>2021-03-21 03:00:00</td>\n",
       "      <td>2021-03-21 04:00:00</td>\n",
       "      <td>3.1</td>\n",
       "      <td>1.1</td>\n",
       "      <td>87</td>\n",
       "      <td>0.0</td>\n",
       "      <td>250</td>\n",
       "      <td>24</td>\n",
       "      <td>37.0</td>\n",
       "      <td>1014.6</td>\n",
       "      <td>0</td>\n",
       "      <td>7</td>\n",
       "    </tr>\n",
       "  </tbody>\n",
       "</table>\n",
       "</div>"
      ],
      "text/plain": [
       "                  time           time_local  temp  dwpt  rhum  prcp  wdir  \\\n",
       "0  2021-03-20 23:00:00  2021-03-21 00:00:00   2.1  -3.8    65   0.0   230   \n",
       "1  2021-03-21 00:00:00  2021-03-21 01:00:00   3.1  -2.8    65   0.0   240   \n",
       "2  2021-03-21 01:00:00  2021-03-21 02:00:00   3.1  -2.8    65   0.0   240   \n",
       "3  2021-03-21 02:00:00  2021-03-21 03:00:00   3.1  -0.9    75   0.0   250   \n",
       "4  2021-03-21 03:00:00  2021-03-21 04:00:00   3.1   1.1    87   0.0   250   \n",
       "\n",
       "   wspd  wpgt    pres  tsun  coco  \n",
       "0    24  31.0  1018.9     0     4  \n",
       "1    24  35.0  1017.7     0     4  \n",
       "2    24  35.0  1016.8     0     4  \n",
       "3    26  38.0  1015.6     0     4  \n",
       "4    24  37.0  1014.6     0     7  "
      ]
     },
     "execution_count": 5,
     "metadata": {},
     "output_type": "execute_result"
    }
   ],
   "source": [
    "# the list become a dataframe\n",
    "frame = pd.concat(l, axis=0, ignore_index=True)\n",
    "frame.drop(columns='snow',inplace=True) #I drop 'snow' column because is NaN\n",
    "frame.head()\n"
   ]
  },
  {
   "cell_type": "code",
   "execution_count": 6,
   "metadata": {},
   "outputs": [],
   "source": [
    "frame.drop(['time'],axis=1, inplace= True)\n",
    "frame.rename(columns={'time_local':'time'},inplace=True)\n",
    "#I'm selecting only time_local which is taking account the time zone"
   ]
  },
  {
   "cell_type": "code",
   "execution_count": 7,
   "metadata": {},
   "outputs": [
    {
     "data": {
      "text/html": [
       "<div>\n",
       "<style scoped>\n",
       "    .dataframe tbody tr th:only-of-type {\n",
       "        vertical-align: middle;\n",
       "    }\n",
       "\n",
       "    .dataframe tbody tr th {\n",
       "        vertical-align: top;\n",
       "    }\n",
       "\n",
       "    .dataframe thead th {\n",
       "        text-align: right;\n",
       "    }\n",
       "</style>\n",
       "<table border=\"1\" class=\"dataframe\">\n",
       "  <thead>\n",
       "    <tr style=\"text-align: right;\">\n",
       "      <th></th>\n",
       "      <th>time</th>\n",
       "      <th>date</th>\n",
       "      <th>hr</th>\n",
       "    </tr>\n",
       "  </thead>\n",
       "  <tbody>\n",
       "    <tr>\n",
       "      <th>0</th>\n",
       "      <td>2021-03-21 00:00:00</td>\n",
       "      <td>2021-03-21</td>\n",
       "      <td>00</td>\n",
       "    </tr>\n",
       "    <tr>\n",
       "      <th>1</th>\n",
       "      <td>2021-03-21 01:00:00</td>\n",
       "      <td>2021-03-21</td>\n",
       "      <td>01</td>\n",
       "    </tr>\n",
       "  </tbody>\n",
       "</table>\n",
       "</div>"
      ],
      "text/plain": [
       "                  time       date  hr\n",
       "0  2021-03-21 00:00:00 2021-03-21  00\n",
       "1  2021-03-21 01:00:00 2021-03-21  01"
      ]
     },
     "execution_count": 7,
     "metadata": {},
     "output_type": "execute_result"
    }
   ],
   "source": [
    "date,hrs=[],[]\n",
    "for el in frame.time:\n",
    "    date.append(el.split(' ')[0])\n",
    "    hrs.append(el.split(' ')[1])\n",
    "\n",
    "frame['hr']=hrs \n",
    "frame['date']=date \n",
    "\n",
    "frame['date'] = pd.to_datetime(frame['date'])\n",
    "frame['hr']=frame.hr.str[:2]\n",
    "\n",
    "frame[['time','date','hr']].head(2) #from time column I get the hour of the days and the date"
   ]
  },
  {
   "cell_type": "code",
   "execution_count": 8,
   "metadata": {},
   "outputs": [],
   "source": [
    "#both frame and df dataframes have date column, we'll merge them over this column\n",
    "#when I'm not working I have no weather date\n",
    "w=df.merge(right= frame,on= ['date'])"
   ]
  },
  {
   "cell_type": "code",
   "execution_count": 9,
   "metadata": {},
   "outputs": [
    {
     "data": {
      "text/html": [
       "<div>\n",
       "<style scoped>\n",
       "    .dataframe tbody tr th:only-of-type {\n",
       "        vertical-align: middle;\n",
       "    }\n",
       "\n",
       "    .dataframe tbody tr th {\n",
       "        vertical-align: top;\n",
       "    }\n",
       "\n",
       "    .dataframe thead th {\n",
       "        text-align: right;\n",
       "    }\n",
       "</style>\n",
       "<table border=\"1\" class=\"dataframe\">\n",
       "  <thead>\n",
       "    <tr style=\"text-align: right;\">\n",
       "      <th></th>\n",
       "      <th>date</th>\n",
       "      <th>schedule</th>\n",
       "      <th>hrs</th>\n",
       "      <th>etips</th>\n",
       "      <th>cash</th>\n",
       "      <th>deliveries</th>\n",
       "      <th>km</th>\n",
       "      <th>earnings</th>\n",
       "      <th>net</th>\n",
       "      <th>nethrs</th>\n",
       "      <th>...</th>\n",
       "      <th>dwpt</th>\n",
       "      <th>rhum</th>\n",
       "      <th>prcp</th>\n",
       "      <th>wdir</th>\n",
       "      <th>wspd</th>\n",
       "      <th>wpgt</th>\n",
       "      <th>pres</th>\n",
       "      <th>tsun</th>\n",
       "      <th>coco</th>\n",
       "      <th>hr</th>\n",
       "    </tr>\n",
       "  </thead>\n",
       "  <tbody>\n",
       "    <tr>\n",
       "      <th>0</th>\n",
       "      <td>2020-12-11</td>\n",
       "      <td>18-22</td>\n",
       "      <td>4</td>\n",
       "      <td>5.5</td>\n",
       "      <td>10.0</td>\n",
       "      <td>10</td>\n",
       "      <td>34.2</td>\n",
       "      <td>44.3</td>\n",
       "      <td>56.02</td>\n",
       "      <td>14.01</td>\n",
       "      <td>...</td>\n",
       "      <td>-1.9</td>\n",
       "      <td>93</td>\n",
       "      <td>0.0</td>\n",
       "      <td>100</td>\n",
       "      <td>11</td>\n",
       "      <td>18.0</td>\n",
       "      <td>1008.6</td>\n",
       "      <td>0</td>\n",
       "      <td>4</td>\n",
       "      <td>00</td>\n",
       "    </tr>\n",
       "  </tbody>\n",
       "</table>\n",
       "<p>1 rows × 28 columns</p>\n",
       "</div>"
      ],
      "text/plain": [
       "        date schedule  hrs  etips  cash  deliveries    km  earnings    net  \\\n",
       "0 2020-12-11    18-22    4    5.5  10.0          10  34.2      44.3  56.02   \n",
       "\n",
       "   nethrs  ...  dwpt  rhum  prcp wdir  wspd  wpgt    pres  tsun  coco  hr  \n",
       "0   14.01  ...  -1.9    93   0.0  100    11  18.0  1008.6     0     4  00  \n",
       "\n",
       "[1 rows x 28 columns]"
      ]
     },
     "execution_count": 9,
     "metadata": {},
     "output_type": "execute_result"
    }
   ],
   "source": [
    "w.head(1)"
   ]
  },
  {
   "cell_type": "code",
   "execution_count": 10,
   "metadata": {},
   "outputs": [],
   "source": [
    "w['schedule']=w.schedule.str[:2] # I transform schedule from this: 18-22, to this: 18\n",
    "w=w.astype({'hr':'int64','schedule':'int64'})"
   ]
  },
  {
   "cell_type": "code",
   "execution_count": 11,
   "metadata": {},
   "outputs": [],
   "source": [
    "rang=[]\n",
    "for el in range(len(w.cash)):\n",
    "        a=w.hrs[el]+w.schedule[el]\n",
    "        b=range(w.schedule[el],a)\n",
    "        rang.append(b)"
   ]
  },
  {
   "cell_type": "code",
   "execution_count": 12,
   "metadata": {},
   "outputs": [],
   "source": [
    "w['schedule']=rang #I transfomr schedule from a sigle number to a range (eg. 18 -> (18,19,20,21))\n",
    "w.drop(['time','wdir'],axis=1, inplace= True) #I drop obsolete time and useless wind direction column "
   ]
  },
  {
   "cell_type": "code",
   "execution_count": 13,
   "metadata": {},
   "outputs": [
    {
     "data": {
      "text/html": [
       "<div>\n",
       "<style scoped>\n",
       "    .dataframe tbody tr th:only-of-type {\n",
       "        vertical-align: middle;\n",
       "    }\n",
       "\n",
       "    .dataframe tbody tr th {\n",
       "        vertical-align: top;\n",
       "    }\n",
       "\n",
       "    .dataframe thead th {\n",
       "        text-align: right;\n",
       "    }\n",
       "</style>\n",
       "<table border=\"1\" class=\"dataframe\">\n",
       "  <thead>\n",
       "    <tr style=\"text-align: right;\">\n",
       "      <th></th>\n",
       "      <th>date</th>\n",
       "      <th>schedule</th>\n",
       "      <th>hrs</th>\n",
       "      <th>etips</th>\n",
       "      <th>cash</th>\n",
       "      <th>deliveries</th>\n",
       "      <th>km</th>\n",
       "      <th>earnings</th>\n",
       "      <th>net</th>\n",
       "      <th>nethrs</th>\n",
       "      <th>...</th>\n",
       "      <th>temp</th>\n",
       "      <th>dwpt</th>\n",
       "      <th>rhum</th>\n",
       "      <th>prcp</th>\n",
       "      <th>wspd</th>\n",
       "      <th>wpgt</th>\n",
       "      <th>pres</th>\n",
       "      <th>tsun</th>\n",
       "      <th>coco</th>\n",
       "      <th>hr</th>\n",
       "    </tr>\n",
       "  </thead>\n",
       "  <tbody>\n",
       "    <tr>\n",
       "      <th>0</th>\n",
       "      <td>2020-12-11</td>\n",
       "      <td>(18, 19, 20, 21)</td>\n",
       "      <td>4</td>\n",
       "      <td>5.5</td>\n",
       "      <td>10.0</td>\n",
       "      <td>10</td>\n",
       "      <td>34.2</td>\n",
       "      <td>44.3</td>\n",
       "      <td>56.02</td>\n",
       "      <td>14.01</td>\n",
       "      <td>...</td>\n",
       "      <td>-0.9</td>\n",
       "      <td>-1.9</td>\n",
       "      <td>93</td>\n",
       "      <td>0.0</td>\n",
       "      <td>11</td>\n",
       "      <td>18.0</td>\n",
       "      <td>1008.6</td>\n",
       "      <td>0</td>\n",
       "      <td>4</td>\n",
       "      <td>0</td>\n",
       "    </tr>\n",
       "  </tbody>\n",
       "</table>\n",
       "<p>1 rows × 26 columns</p>\n",
       "</div>"
      ],
      "text/plain": [
       "        date          schedule  hrs  etips  cash  deliveries    km  earnings  \\\n",
       "0 2020-12-11  (18, 19, 20, 21)    4    5.5  10.0          10  34.2      44.3   \n",
       "\n",
       "     net  nethrs  ...  temp  dwpt  rhum prcp  wspd  wpgt    pres  tsun  coco  \\\n",
       "0  56.02   14.01  ...  -0.9  -1.9    93  0.0    11  18.0  1008.6     0     4   \n",
       "\n",
       "   hr  \n",
       "0   0  \n",
       "\n",
       "[1 rows x 26 columns]"
      ]
     },
     "execution_count": 13,
     "metadata": {},
     "output_type": "execute_result"
    }
   ],
   "source": [
    "w.head(1)"
   ]
  },
  {
   "cell_type": "code",
   "execution_count": 14,
   "metadata": {},
   "outputs": [],
   "source": [
    "filt=[]\n",
    "for el in range(len(w.day)):\n",
    "    filt.append(w.hr[el] in w.schedule[el]) #boolean if hours of the days are the hours of my shift\n",
    "\n",
    "w=w[filt]\n",
    "w.fillna(0,inplace=True)"
   ]
  },
  {
   "cell_type": "code",
   "execution_count": 15,
   "metadata": {},
   "outputs": [],
   "source": [
    "get_max= lambda x: x.value_counts(dropna=False).index[0] # creating a function that get the mode value from a set"
   ]
  },
  {
   "cell_type": "code",
   "execution_count": 16,
   "metadata": {},
   "outputs": [],
   "source": [
    "f1={'etips':'median',\n",
    "    'cash':'median',\n",
    "    'deliveries':'median',\n",
    "    'km':'median',\n",
    "    'hrs':'median',\n",
    "    'nethrs':'median',\n",
    "    'tipdel':'median',\n",
    "    'kmdel':'median',\n",
    "    'delhrs':'median',\n",
    "    'more':'median',\n",
    "    'temp':'median',\n",
    "   'dwpt':'median',\n",
    "  'rhum':'median',\n",
    "    'prcp':'mean',\n",
    "   'wspd':'mean',\n",
    "  'wpgt':'mean',\n",
    "   'pres':'mean',\n",
    "    'hr':'min'\n",
    "}\n",
    "\n",
    "f2={'coco':[get_max]}\n",
    "f3={'day':[get_max]}\n",
    "#since we want one single row for every day instead of having many different rows for every working hour\n",
    "#for every column we get mean, median, min or mode depending on the case"
   ]
  },
  {
   "cell_type": "code",
   "execution_count": 17,
   "metadata": {},
   "outputs": [],
   "source": [
    "w1=w.groupby('date').agg(f1).round(2)\n",
    "w2=pd.DataFrame()\n",
    "w2[['coco']]=w.groupby('date').agg(f2)\n",
    "w2[['day']]=w.groupby('date').agg(f3)\n",
    "#we apply those function and we have one single row for every working day"
   ]
  },
  {
   "cell_type": "code",
   "execution_count": 18,
   "metadata": {},
   "outputs": [
    {
     "data": {
      "text/html": [
       "<div>\n",
       "<style scoped>\n",
       "    .dataframe tbody tr th:only-of-type {\n",
       "        vertical-align: middle;\n",
       "    }\n",
       "\n",
       "    .dataframe tbody tr th {\n",
       "        vertical-align: top;\n",
       "    }\n",
       "\n",
       "    .dataframe thead th {\n",
       "        text-align: right;\n",
       "    }\n",
       "</style>\n",
       "<table border=\"1\" class=\"dataframe\">\n",
       "  <thead>\n",
       "    <tr style=\"text-align: right;\">\n",
       "      <th></th>\n",
       "      <th>etips</th>\n",
       "      <th>cash</th>\n",
       "      <th>deliveries</th>\n",
       "      <th>km</th>\n",
       "      <th>hrs</th>\n",
       "      <th>nethrs</th>\n",
       "      <th>tipdel</th>\n",
       "      <th>kmdel</th>\n",
       "      <th>delhrs</th>\n",
       "      <th>more</th>\n",
       "      <th>temp</th>\n",
       "      <th>dwpt</th>\n",
       "      <th>rhum</th>\n",
       "      <th>prcp</th>\n",
       "      <th>wspd</th>\n",
       "      <th>wpgt</th>\n",
       "      <th>pres</th>\n",
       "      <th>hr</th>\n",
       "      <th>coco</th>\n",
       "      <th>day</th>\n",
       "    </tr>\n",
       "    <tr>\n",
       "      <th>date</th>\n",
       "      <th></th>\n",
       "      <th></th>\n",
       "      <th></th>\n",
       "      <th></th>\n",
       "      <th></th>\n",
       "      <th></th>\n",
       "      <th></th>\n",
       "      <th></th>\n",
       "      <th></th>\n",
       "      <th></th>\n",
       "      <th></th>\n",
       "      <th></th>\n",
       "      <th></th>\n",
       "      <th></th>\n",
       "      <th></th>\n",
       "      <th></th>\n",
       "      <th></th>\n",
       "      <th></th>\n",
       "      <th></th>\n",
       "      <th></th>\n",
       "    </tr>\n",
       "  </thead>\n",
       "  <tbody>\n",
       "    <tr>\n",
       "      <th>2020-12-11</th>\n",
       "      <td>5.5</td>\n",
       "      <td>10.0</td>\n",
       "      <td>10.0</td>\n",
       "      <td>34.2</td>\n",
       "      <td>4.0</td>\n",
       "      <td>14.01</td>\n",
       "      <td>1.55</td>\n",
       "      <td>3.42</td>\n",
       "      <td>2.5</td>\n",
       "      <td>1.07</td>\n",
       "      <td>0.1</td>\n",
       "      <td>-0.9</td>\n",
       "      <td>93.0</td>\n",
       "      <td>0.0</td>\n",
       "      <td>21.75</td>\n",
       "      <td>34.0</td>\n",
       "      <td>1001.88</td>\n",
       "      <td>18</td>\n",
       "      <td>4</td>\n",
       "      <td>Friday</td>\n",
       "    </tr>\n",
       "  </tbody>\n",
       "</table>\n",
       "</div>"
      ],
      "text/plain": [
       "            etips  cash  deliveries    km  hrs  nethrs  tipdel  kmdel  delhrs  \\\n",
       "date                                                                            \n",
       "2020-12-11    5.5  10.0        10.0  34.2  4.0   14.01    1.55   3.42     2.5   \n",
       "\n",
       "            more  temp  dwpt  rhum  prcp   wspd  wpgt     pres  hr  coco  \\\n",
       "date                                                                       \n",
       "2020-12-11  1.07   0.1  -0.9  93.0   0.0  21.75  34.0  1001.88  18     4   \n",
       "\n",
       "               day  \n",
       "date                \n",
       "2020-12-11  Friday  "
      ]
     },
     "execution_count": 18,
     "metadata": {},
     "output_type": "execute_result"
    }
   ],
   "source": [
    "we=w1.merge(right=w2,on= ['date'])\n",
    "\n",
    "we.head(1) #merging the two dataframe formatted"
   ]
  },
  {
   "cell_type": "code",
   "execution_count": 19,
   "metadata": {},
   "outputs": [
    {
     "data": {
      "text/html": [
       "<div>\n",
       "<style scoped>\n",
       "    .dataframe tbody tr th:only-of-type {\n",
       "        vertical-align: middle;\n",
       "    }\n",
       "\n",
       "    .dataframe tbody tr th {\n",
       "        vertical-align: top;\n",
       "    }\n",
       "\n",
       "    .dataframe thead th {\n",
       "        text-align: right;\n",
       "    }\n",
       "</style>\n",
       "<table border=\"1\" class=\"dataframe\">\n",
       "  <thead>\n",
       "    <tr style=\"text-align: right;\">\n",
       "      <th></th>\n",
       "      <th>date</th>\n",
       "      <th>etips</th>\n",
       "      <th>cash</th>\n",
       "      <th>deliveries</th>\n",
       "      <th>km</th>\n",
       "      <th>hrs</th>\n",
       "      <th>nethrs</th>\n",
       "      <th>tipdel</th>\n",
       "      <th>kmdel</th>\n",
       "      <th>delhrs</th>\n",
       "      <th>...</th>\n",
       "      <th>temp</th>\n",
       "      <th>dwpt</th>\n",
       "      <th>rhum</th>\n",
       "      <th>prcp</th>\n",
       "      <th>wspd</th>\n",
       "      <th>wpgt</th>\n",
       "      <th>pres</th>\n",
       "      <th>hr</th>\n",
       "      <th>coco</th>\n",
       "      <th>day</th>\n",
       "    </tr>\n",
       "  </thead>\n",
       "  <tbody>\n",
       "    <tr>\n",
       "      <th>97</th>\n",
       "      <td>2021-04-12</td>\n",
       "      <td>3.0</td>\n",
       "      <td>3.6</td>\n",
       "      <td>5.0</td>\n",
       "      <td>16.4</td>\n",
       "      <td>2.0</td>\n",
       "      <td>11.38</td>\n",
       "      <td>1.32</td>\n",
       "      <td>3.28</td>\n",
       "      <td>2.50</td>\n",
       "      <td>...</td>\n",
       "      <td>7.60</td>\n",
       "      <td>-1.40</td>\n",
       "      <td>53.0</td>\n",
       "      <td>0.0</td>\n",
       "      <td>16.50</td>\n",
       "      <td>29.00</td>\n",
       "      <td>1024.95</td>\n",
       "      <td>18</td>\n",
       "      <td>Cloudy</td>\n",
       "      <td>Monday</td>\n",
       "    </tr>\n",
       "    <tr>\n",
       "      <th>98</th>\n",
       "      <td>2021-04-13</td>\n",
       "      <td>3.5</td>\n",
       "      <td>6.5</td>\n",
       "      <td>13.0</td>\n",
       "      <td>44.2</td>\n",
       "      <td>4.0</td>\n",
       "      <td>12.46</td>\n",
       "      <td>0.77</td>\n",
       "      <td>3.40</td>\n",
       "      <td>3.25</td>\n",
       "      <td>...</td>\n",
       "      <td>6.00</td>\n",
       "      <td>0.70</td>\n",
       "      <td>69.5</td>\n",
       "      <td>0.0</td>\n",
       "      <td>15.00</td>\n",
       "      <td>28.75</td>\n",
       "      <td>1027.58</td>\n",
       "      <td>19</td>\n",
       "      <td>Rain Shower</td>\n",
       "      <td>Tuesday</td>\n",
       "    </tr>\n",
       "    <tr>\n",
       "      <th>99</th>\n",
       "      <td>2021-04-14</td>\n",
       "      <td>2.5</td>\n",
       "      <td>8.6</td>\n",
       "      <td>12.0</td>\n",
       "      <td>28.4</td>\n",
       "      <td>4.0</td>\n",
       "      <td>11.74</td>\n",
       "      <td>0.92</td>\n",
       "      <td>2.37</td>\n",
       "      <td>3.00</td>\n",
       "      <td>...</td>\n",
       "      <td>6.70</td>\n",
       "      <td>-3.05</td>\n",
       "      <td>49.0</td>\n",
       "      <td>0.0</td>\n",
       "      <td>14.25</td>\n",
       "      <td>31.75</td>\n",
       "      <td>1026.92</td>\n",
       "      <td>19</td>\n",
       "      <td>Cloudy</td>\n",
       "      <td>Wednesday</td>\n",
       "    </tr>\n",
       "    <tr>\n",
       "      <th>100</th>\n",
       "      <td>2021-04-15</td>\n",
       "      <td>2.0</td>\n",
       "      <td>4.0</td>\n",
       "      <td>4.0</td>\n",
       "      <td>11.4</td>\n",
       "      <td>2.0</td>\n",
       "      <td>11.37</td>\n",
       "      <td>1.50</td>\n",
       "      <td>2.85</td>\n",
       "      <td>2.00</td>\n",
       "      <td>...</td>\n",
       "      <td>4.20</td>\n",
       "      <td>-1.40</td>\n",
       "      <td>67.5</td>\n",
       "      <td>0.0</td>\n",
       "      <td>28.00</td>\n",
       "      <td>51.50</td>\n",
       "      <td>1026.85</td>\n",
       "      <td>19</td>\n",
       "      <td>Light Rain</td>\n",
       "      <td>Thursday</td>\n",
       "    </tr>\n",
       "    <tr>\n",
       "      <th>101</th>\n",
       "      <td>2021-04-16</td>\n",
       "      <td>1.0</td>\n",
       "      <td>5.0</td>\n",
       "      <td>10.0</td>\n",
       "      <td>25.6</td>\n",
       "      <td>4.0</td>\n",
       "      <td>9.87</td>\n",
       "      <td>0.60</td>\n",
       "      <td>2.56</td>\n",
       "      <td>2.50</td>\n",
       "      <td>...</td>\n",
       "      <td>8.35</td>\n",
       "      <td>-1.60</td>\n",
       "      <td>49.0</td>\n",
       "      <td>0.0</td>\n",
       "      <td>22.00</td>\n",
       "      <td>34.75</td>\n",
       "      <td>1023.80</td>\n",
       "      <td>19</td>\n",
       "      <td>Overcast</td>\n",
       "      <td>Friday</td>\n",
       "    </tr>\n",
       "  </tbody>\n",
       "</table>\n",
       "<p>5 rows × 21 columns</p>\n",
       "</div>"
      ],
      "text/plain": [
       "          date  etips  cash  deliveries    km  hrs  nethrs  tipdel  kmdel  \\\n",
       "97  2021-04-12    3.0   3.6         5.0  16.4  2.0   11.38    1.32   3.28   \n",
       "98  2021-04-13    3.5   6.5        13.0  44.2  4.0   12.46    0.77   3.40   \n",
       "99  2021-04-14    2.5   8.6        12.0  28.4  4.0   11.74    0.92   2.37   \n",
       "100 2021-04-15    2.0   4.0         4.0  11.4  2.0   11.37    1.50   2.85   \n",
       "101 2021-04-16    1.0   5.0        10.0  25.6  4.0    9.87    0.60   2.56   \n",
       "\n",
       "     delhrs  ...  temp  dwpt  rhum  prcp   wspd   wpgt     pres  hr  \\\n",
       "97     2.50  ...  7.60 -1.40  53.0   0.0  16.50  29.00  1024.95  18   \n",
       "98     3.25  ...  6.00  0.70  69.5   0.0  15.00  28.75  1027.58  19   \n",
       "99     3.00  ...  6.70 -3.05  49.0   0.0  14.25  31.75  1026.92  19   \n",
       "100    2.00  ...  4.20 -1.40  67.5   0.0  28.00  51.50  1026.85  19   \n",
       "101    2.50  ...  8.35 -1.60  49.0   0.0  22.00  34.75  1023.80  19   \n",
       "\n",
       "            coco        day  \n",
       "97        Cloudy     Monday  \n",
       "98   Rain Shower    Tuesday  \n",
       "99        Cloudy  Wednesday  \n",
       "100   Light Rain   Thursday  \n",
       "101     Overcast     Friday  \n",
       "\n",
       "[5 rows x 21 columns]"
      ]
     },
     "execution_count": 19,
     "metadata": {},
     "output_type": "execute_result"
    }
   ],
   "source": [
    "dic={1:'Clear',2:'Fair',3:'Cloudy',4:'Overcast',5:'Fog',6:'Freezing Fog',\n",
    "    7:'Light Rain',8:'Rain',9:'Heavy Rain',10:'Freezing Rain',\n",
    "    11:'Heavy Freezing Rain', 12:'Sleet',14:'Light snowfall',\n",
    "    15:'Snowfall',16:'Heavy snowfall',17:'Rain Shower',\n",
    "    18:'Heavy Rain Shower',19:'Sleet Shower',21:'Snow Shower'}\n",
    "invdic= {v: k for k, v in dic.items()}#coco columns had numbers, each number had a meaning, with the dict we add a meaning to that table\n",
    "we['coco'].replace(dic,inplace=True) #conditioncode\n",
    "we.reset_index(inplace=True)\n",
    "we.tail(5)"
   ]
  },
  {
   "cell_type": "markdown",
   "metadata": {},
   "source": [
    "We have created a new dataframe called **we** (weather), from the union of the previous **df** containing working statistical data.\n",
    "We have added 8 new columns containing meteorological parameters such as:\n",
    "* **temp** : temperature expressed in °Celsius\n",
    "* **dwpt** : dew point expressed in °Celsius\n",
    "* **rhum** : relative humidity in %\n",
    "* **prcp** : precipitation (both rain or snow) express in mm/h\n",
    "* **wspd** : windspeed, in km/h\n",
    "* **wpgt** : wind peak gust, in km/h\n",
    "* **pres** : pressure in hPa\n",
    "* **coco** : weather condition code\n"
   ]
  },
  {
   "cell_type": "code",
   "execution_count": 20,
   "metadata": {},
   "outputs": [
    {
     "data": {
      "text/plain": [
       "date          2021-04-16 00:00:00\n",
       "etips                        12.0\n",
       "cash                         19.5\n",
       "deliveries                   17.0\n",
       "km                           50.5\n",
       "hrs                           6.0\n",
       "nethrs                      18.21\n",
       "tipdel                        2.0\n",
       "kmdel                        5.43\n",
       "delhrs                        3.5\n",
       "more                         9.74\n",
       "temp                        21.95\n",
       "dwpt                         10.8\n",
       "rhum                        100.0\n",
       "prcp                         0.68\n",
       "wspd                         37.0\n",
       "wpgt                         58.5\n",
       "pres                      1041.28\n",
       "hr                             19\n",
       "coco                  Rain Shower\n",
       "day                     Wednesday\n",
       "dtype: object"
      ]
     },
     "execution_count": 20,
     "metadata": {},
     "output_type": "execute_result"
    }
   ],
   "source": [
    "we.max() #An overview of the highest value for every column"
   ]
  },
  {
   "cell_type": "code",
   "execution_count": 21,
   "metadata": {},
   "outputs": [
    {
     "data": {
      "text/html": [
       "<style type=\"text/css\">\n",
       "#T_1f3e0_row0_col0, #T_1f3e0_row1_col1, #T_1f3e0_row2_col2, #T_1f3e0_row3_col3, #T_1f3e0_row4_col4, #T_1f3e0_row5_col5, #T_1f3e0_row6_col6, #T_1f3e0_row7_col7, #T_1f3e0_row8_col8, #T_1f3e0_row9_col9, #T_1f3e0_row10_col10, #T_1f3e0_row11_col11, #T_1f3e0_row12_col12, #T_1f3e0_row13_col13, #T_1f3e0_row14_col14, #T_1f3e0_row15_col15, #T_1f3e0_row16_col16, #T_1f3e0_row17_col17 {\n",
       "  background-color: #b40426;\n",
       "  color: #f1f1f1;\n",
       "}\n",
       "#T_1f3e0_row0_col1, #T_1f3e0_row9_col1, #T_1f3e0_row13_col3 {\n",
       "  background-color: #8db0fe;\n",
       "  color: #000000;\n",
       "}\n",
       "#T_1f3e0_row0_col2, #T_1f3e0_row10_col4 {\n",
       "  background-color: #e3d9d3;\n",
       "  color: #000000;\n",
       "}\n",
       "#T_1f3e0_row0_col3 {\n",
       "  background-color: #dadce0;\n",
       "  color: #000000;\n",
       "}\n",
       "#T_1f3e0_row0_col4 {\n",
       "  background-color: #dddcdc;\n",
       "  color: #000000;\n",
       "}\n",
       "#T_1f3e0_row0_col5 {\n",
       "  background-color: #cfdaea;\n",
       "  color: #000000;\n",
       "}\n",
       "#T_1f3e0_row0_col6 {\n",
       "  background-color: #ecd3c5;\n",
       "  color: #000000;\n",
       "}\n",
       "#T_1f3e0_row0_col7, #T_1f3e0_row6_col12, #T_1f3e0_row12_col9 {\n",
       "  background-color: #c3d5f4;\n",
       "  color: #000000;\n",
       "}\n",
       "#T_1f3e0_row0_col8, #T_1f3e0_row15_col8 {\n",
       "  background-color: #d1dae9;\n",
       "  color: #000000;\n",
       "}\n",
       "#T_1f3e0_row0_col9, #T_1f3e0_row0_col14 {\n",
       "  background-color: #94b6ff;\n",
       "  color: #000000;\n",
       "}\n",
       "#T_1f3e0_row0_col10, #T_1f3e0_row7_col12, #T_1f3e0_row16_col3 {\n",
       "  background-color: #adc9fd;\n",
       "  color: #000000;\n",
       "}\n",
       "#T_1f3e0_row0_col11, #T_1f3e0_row6_col13, #T_1f3e0_row8_col15, #T_1f3e0_row17_col10 {\n",
       "  background-color: #85a8fc;\n",
       "  color: #f1f1f1;\n",
       "}\n",
       "#T_1f3e0_row0_col12, #T_1f3e0_row4_col16, #T_1f3e0_row16_col1 {\n",
       "  background-color: #9fbfff;\n",
       "  color: #000000;\n",
       "}\n",
       "#T_1f3e0_row0_col13, #T_1f3e0_row2_col16, #T_1f3e0_row13_col17, #T_1f3e0_row16_col5 {\n",
       "  background-color: #97b8ff;\n",
       "  color: #000000;\n",
       "}\n",
       "#T_1f3e0_row0_col15, #T_1f3e0_row9_col3, #T_1f3e0_row9_col15, #T_1f3e0_row10_col15 {\n",
       "  background-color: #89acfd;\n",
       "  color: #000000;\n",
       "}\n",
       "#T_1f3e0_row0_col16, #T_1f3e0_row16_col6 {\n",
       "  background-color: #6f92f3;\n",
       "  color: #f1f1f1;\n",
       "}\n",
       "#T_1f3e0_row0_col17, #T_1f3e0_row4_col13, #T_1f3e0_row8_col13, #T_1f3e0_row9_col13, #T_1f3e0_row11_col15 {\n",
       "  background-color: #7396f5;\n",
       "  color: #f1f1f1;\n",
       "}\n",
       "#T_1f3e0_row1_col0, #T_1f3e0_row5_col7 {\n",
       "  background-color: #6282ea;\n",
       "  color: #f1f1f1;\n",
       "}\n",
       "#T_1f3e0_row1_col2 {\n",
       "  background-color: #f7bca1;\n",
       "  color: #000000;\n",
       "}\n",
       "#T_1f3e0_row1_col3, #T_1f3e0_row12_col11, #T_1f3e0_row16_col8 {\n",
       "  background-color: #c6d6f1;\n",
       "  color: #000000;\n",
       "}\n",
       "#T_1f3e0_row1_col4, #T_1f3e0_row2_col0, #T_1f3e0_row3_col1, #T_1f3e0_row3_col8, #T_1f3e0_row8_col12 {\n",
       "  background-color: #bed2f6;\n",
       "  color: #000000;\n",
       "}\n",
       "#T_1f3e0_row1_col5 {\n",
       "  background-color: #f7b093;\n",
       "  color: #000000;\n",
       "}\n",
       "#T_1f3e0_row1_col6, #T_1f3e0_row1_col8 {\n",
       "  background-color: #f7b89c;\n",
       "  color: #000000;\n",
       "}\n",
       "#T_1f3e0_row1_col7, #T_1f3e0_row14_col11 {\n",
       "  background-color: #8caffe;\n",
       "  color: #000000;\n",
       "}\n",
       "#T_1f3e0_row1_col9, #T_1f3e0_row9_col14, #T_1f3e0_row10_col14, #T_1f3e0_row14_col4, #T_1f3e0_row17_col5 {\n",
       "  background-color: #92b4fe;\n",
       "  color: #000000;\n",
       "}\n",
       "#T_1f3e0_row1_col10, #T_1f3e0_row2_col7, #T_1f3e0_row5_col14, #T_1f3e0_row15_col0, #T_1f3e0_row17_col2 {\n",
       "  background-color: #7093f3;\n",
       "  color: #f1f1f1;\n",
       "}\n",
       "#T_1f3e0_row1_col11, #T_1f3e0_row12_col0 {\n",
       "  background-color: #516ddb;\n",
       "  color: #f1f1f1;\n",
       "}\n",
       "#T_1f3e0_row1_col12, #T_1f3e0_row8_col17, #T_1f3e0_row11_col4, #T_1f3e0_row14_col13, #T_1f3e0_row15_col10 {\n",
       "  background-color: #b7cff9;\n",
       "  color: #000000;\n",
       "}\n",
       "#T_1f3e0_row1_col13, #T_1f3e0_row2_col15, #T_1f3e0_row9_col10 {\n",
       "  background-color: #6e90f2;\n",
       "  color: #f1f1f1;\n",
       "}\n",
       "#T_1f3e0_row1_col14, #T_1f3e0_row5_col10, #T_1f3e0_row5_col11, #T_1f3e0_row13_col16, #T_1f3e0_row17_col9 {\n",
       "  background-color: #4055c8;\n",
       "  color: #f1f1f1;\n",
       "}\n",
       "#T_1f3e0_row1_col15 {\n",
       "  background-color: #4961d2;\n",
       "  color: #f1f1f1;\n",
       "}\n",
       "#T_1f3e0_row1_col16, #T_1f3e0_row15_col2, #T_1f3e0_row17_col6 {\n",
       "  background-color: #98b9ff;\n",
       "  color: #000000;\n",
       "}\n",
       "#T_1f3e0_row1_col17 {\n",
       "  background-color: #a7c5fe;\n",
       "  color: #000000;\n",
       "}\n",
       "#T_1f3e0_row2_col1 {\n",
       "  background-color: #f4c6af;\n",
       "  color: #000000;\n",
       "}\n",
       "#T_1f3e0_row2_col3 {\n",
       "  background-color: #f6a385;\n",
       "  color: #000000;\n",
       "}\n",
       "#T_1f3e0_row2_col4 {\n",
       "  background-color: #f39778;\n",
       "  color: #000000;\n",
       "}\n",
       "#T_1f3e0_row2_col5 {\n",
       "  background-color: #f0cdbb;\n",
       "  color: #000000;\n",
       "}\n",
       "#T_1f3e0_row2_col6, #T_1f3e0_row3_col15, #T_1f3e0_row11_col5, #T_1f3e0_row16_col12 {\n",
       "  background-color: #6788ee;\n",
       "  color: #f1f1f1;\n",
       "}\n",
       "#T_1f3e0_row2_col8 {\n",
       "  background-color: #f59c7d;\n",
       "  color: #000000;\n",
       "}\n",
       "#T_1f3e0_row2_col9 {\n",
       "  background-color: #c7d7f0;\n",
       "  color: #000000;\n",
       "}\n",
       "#T_1f3e0_row2_col10 {\n",
       "  background-color: #aac7fd;\n",
       "  color: #000000;\n",
       "}\n",
       "#T_1f3e0_row2_col11, #T_1f3e0_row6_col11, #T_1f3e0_row9_col16 {\n",
       "  background-color: #6a8bef;\n",
       "  color: #f1f1f1;\n",
       "}\n",
       "#T_1f3e0_row2_col12, #T_1f3e0_row8_col3, #T_1f3e0_row15_col3, #T_1f3e0_row15_col4, #T_1f3e0_row16_col11 {\n",
       "  background-color: #84a7fc;\n",
       "  color: #f1f1f1;\n",
       "}\n",
       "#T_1f3e0_row2_col13, #T_1f3e0_row8_col6, #T_1f3e0_row16_col9, #T_1f3e0_row17_col15 {\n",
       "  background-color: #7699f6;\n",
       "  color: #f1f1f1;\n",
       "}\n",
       "#T_1f3e0_row2_col14, #T_1f3e0_row3_col13, #T_1f3e0_row5_col17 {\n",
       "  background-color: #7597f6;\n",
       "  color: #f1f1f1;\n",
       "}\n",
       "#T_1f3e0_row2_col17, #T_1f3e0_row6_col15, #T_1f3e0_row11_col17 {\n",
       "  background-color: #6180e9;\n",
       "  color: #f1f1f1;\n",
       "}\n",
       "#T_1f3e0_row3_col0, #T_1f3e0_row16_col17 {\n",
       "  background-color: #bad0f8;\n",
       "  color: #000000;\n",
       "}\n",
       "#T_1f3e0_row3_col2 {\n",
       "  background-color: #f59d7e;\n",
       "  color: #000000;\n",
       "}\n",
       "#T_1f3e0_row3_col4, #T_1f3e0_row4_col3, #T_1f3e0_row5_col8 {\n",
       "  background-color: #e36c55;\n",
       "  color: #f1f1f1;\n",
       "}\n",
       "#T_1f3e0_row3_col5, #T_1f3e0_row3_col16, #T_1f3e0_row13_col2, #T_1f3e0_row13_col10, #T_1f3e0_row14_col2 {\n",
       "  background-color: #9dbdff;\n",
       "  color: #000000;\n",
       "}\n",
       "#T_1f3e0_row3_col6, #T_1f3e0_row4_col15, #T_1f3e0_row17_col14 {\n",
       "  background-color: #6b8df0;\n",
       "  color: #f1f1f1;\n",
       "}\n",
       "#T_1f3e0_row3_col7 {\n",
       "  background-color: #f6bea4;\n",
       "  color: #000000;\n",
       "}\n",
       "#T_1f3e0_row3_col9, #T_1f3e0_row10_col8 {\n",
       "  background-color: #82a6fb;\n",
       "  color: #f1f1f1;\n",
       "}\n",
       "#T_1f3e0_row3_col10, #T_1f3e0_row7_col10 {\n",
       "  background-color: #ead4c8;\n",
       "  color: #000000;\n",
       "}\n",
       "#T_1f3e0_row3_col11, #T_1f3e0_row5_col6 {\n",
       "  background-color: #c9d7f0;\n",
       "  color: #000000;\n",
       "}\n",
       "#T_1f3e0_row3_col12, #T_1f3e0_row5_col3, #T_1f3e0_row6_col16 {\n",
       "  background-color: #80a3fa;\n",
       "  color: #f1f1f1;\n",
       "}\n",
       "#T_1f3e0_row3_col14, #T_1f3e0_row8_col0, #T_1f3e0_row9_col11, #T_1f3e0_row10_col13, #T_1f3e0_row10_col17, #T_1f3e0_row11_col9 {\n",
       "  background-color: #6c8ff1;\n",
       "  color: #f1f1f1;\n",
       "}\n",
       "#T_1f3e0_row3_col17, #T_1f3e0_row7_col1, #T_1f3e0_row7_col2, #T_1f3e0_row7_col5, #T_1f3e0_row7_col8, #T_1f3e0_row7_col9, #T_1f3e0_row8_col7, #T_1f3e0_row8_col11, #T_1f3e0_row9_col6, #T_1f3e0_row10_col12, #T_1f3e0_row12_col10, #T_1f3e0_row12_col16, #T_1f3e0_row16_col13, #T_1f3e0_row16_col14, #T_1f3e0_row16_col15, #T_1f3e0_row17_col0, #T_1f3e0_row17_col3, #T_1f3e0_row17_col4 {\n",
       "  background-color: #3b4cc0;\n",
       "  color: #f1f1f1;\n",
       "}\n",
       "#T_1f3e0_row4_col0 {\n",
       "  background-color: #c1d4f4;\n",
       "  color: #000000;\n",
       "}\n",
       "#T_1f3e0_row4_col1, #T_1f3e0_row13_col15, #T_1f3e0_row15_col7 {\n",
       "  background-color: #b9d0f9;\n",
       "  color: #000000;\n",
       "}\n",
       "#T_1f3e0_row4_col2 {\n",
       "  background-color: #f29072;\n",
       "  color: #f1f1f1;\n",
       "}\n",
       "#T_1f3e0_row4_col5, #T_1f3e0_row4_col14, #T_1f3e0_row12_col2, #T_1f3e0_row13_col0, #T_1f3e0_row13_col1, #T_1f3e0_row13_col6 {\n",
       "  background-color: #7b9ff9;\n",
       "  color: #f1f1f1;\n",
       "}\n",
       "#T_1f3e0_row4_col6 {\n",
       "  background-color: #5d7ce6;\n",
       "  color: #f1f1f1;\n",
       "}\n",
       "#T_1f3e0_row4_col7 {\n",
       "  background-color: #dcdddd;\n",
       "  color: #000000;\n",
       "}\n",
       "#T_1f3e0_row4_col8 {\n",
       "  background-color: #a1c0ff;\n",
       "  color: #000000;\n",
       "}\n",
       "#T_1f3e0_row4_col9, #T_1f3e0_row10_col0 {\n",
       "  background-color: #6384eb;\n",
       "  color: #f1f1f1;\n",
       "}\n",
       "#T_1f3e0_row4_col10 {\n",
       "  background-color: #edd1c2;\n",
       "  color: #000000;\n",
       "}\n",
       "#T_1f3e0_row4_col11, #T_1f3e0_row6_col17, #T_1f3e0_row13_col14 {\n",
       "  background-color: #b6cefa;\n",
       "  color: #000000;\n",
       "}\n",
       "#T_1f3e0_row4_col12, #T_1f3e0_row5_col16, #T_1f3e0_row9_col4, #T_1f3e0_row12_col3 {\n",
       "  background-color: #6687ed;\n",
       "  color: #f1f1f1;\n",
       "}\n",
       "#T_1f3e0_row4_col17 {\n",
       "  background-color: #3f53c6;\n",
       "  color: #f1f1f1;\n",
       "}\n",
       "#T_1f3e0_row5_col0 {\n",
       "  background-color: #90b2fe;\n",
       "  color: #000000;\n",
       "}\n",
       "#T_1f3e0_row5_col1 {\n",
       "  background-color: #f5c0a7;\n",
       "  color: #000000;\n",
       "}\n",
       "#T_1f3e0_row5_col2 {\n",
       "  background-color: #edd2c3;\n",
       "  color: #000000;\n",
       "}\n",
       "#T_1f3e0_row5_col4, #T_1f3e0_row6_col9, #T_1f3e0_row8_col4, #T_1f3e0_row15_col6 {\n",
       "  background-color: #5977e3;\n",
       "  color: #f1f1f1;\n",
       "}\n",
       "#T_1f3e0_row5_col9 {\n",
       "  background-color: #ed8366;\n",
       "  color: #f1f1f1;\n",
       "}\n",
       "#T_1f3e0_row5_col12 {\n",
       "  background-color: #e4d9d2;\n",
       "  color: #000000;\n",
       "}\n",
       "#T_1f3e0_row5_col13, #T_1f3e0_row11_col14, #T_1f3e0_row14_col0 {\n",
       "  background-color: #799cf8;\n",
       "  color: #f1f1f1;\n",
       "}\n",
       "#T_1f3e0_row5_col15 {\n",
       "  background-color: #7295f4;\n",
       "  color: #f1f1f1;\n",
       "}\n",
       "#T_1f3e0_row6_col0 {\n",
       "  background-color: #e5d8d1;\n",
       "  color: #000000;\n",
       "}\n",
       "#T_1f3e0_row6_col1, #T_1f3e0_row8_col2 {\n",
       "  background-color: #f7af91;\n",
       "  color: #000000;\n",
       "}\n",
       "#T_1f3e0_row6_col2, #T_1f3e0_row12_col1 {\n",
       "  background-color: #9abbff;\n",
       "  color: #000000;\n",
       "}\n",
       "#T_1f3e0_row6_col3 {\n",
       "  background-color: #8fb1fe;\n",
       "  color: #000000;\n",
       "}\n",
       "#T_1f3e0_row6_col4, #T_1f3e0_row6_col10, #T_1f3e0_row8_col14, #T_1f3e0_row8_col16 {\n",
       "  background-color: #7da0f9;\n",
       "  color: #f1f1f1;\n",
       "}\n",
       "#T_1f3e0_row6_col5 {\n",
       "  background-color: #e8d6cc;\n",
       "  color: #000000;\n",
       "}\n",
       "#T_1f3e0_row6_col7 {\n",
       "  background-color: #cedaeb;\n",
       "  color: #000000;\n",
       "}\n",
       "#T_1f3e0_row6_col8, #T_1f3e0_row11_col3, #T_1f3e0_row13_col7 {\n",
       "  background-color: #ccd9ed;\n",
       "  color: #000000;\n",
       "}\n",
       "#T_1f3e0_row6_col14 {\n",
       "  background-color: #5673e0;\n",
       "  color: #f1f1f1;\n",
       "}\n",
       "#T_1f3e0_row7_col0 {\n",
       "  background-color: #5470de;\n",
       "  color: #f1f1f1;\n",
       "}\n",
       "#T_1f3e0_row7_col3, #T_1f3e0_row8_col1 {\n",
       "  background-color: #ead5c9;\n",
       "  color: #000000;\n",
       "}\n",
       "#T_1f3e0_row7_col4 {\n",
       "  background-color: #afcafc;\n",
       "  color: #000000;\n",
       "}\n",
       "#T_1f3e0_row7_col6 {\n",
       "  background-color: #7a9df8;\n",
       "  color: #f1f1f1;\n",
       "}\n",
       "#T_1f3e0_row7_col11 {\n",
       "  background-color: #ebd3c6;\n",
       "  color: #000000;\n",
       "}\n",
       "#T_1f3e0_row7_col13, #T_1f3e0_row11_col2, #T_1f3e0_row14_col12 {\n",
       "  background-color: #81a4fb;\n",
       "  color: #f1f1f1;\n",
       "}\n",
       "#T_1f3e0_row7_col14, #T_1f3e0_row9_col0 {\n",
       "  background-color: #6485ec;\n",
       "  color: #f1f1f1;\n",
       "}\n",
       "#T_1f3e0_row7_col15 {\n",
       "  background-color: #5f7fe8;\n",
       "  color: #f1f1f1;\n",
       "}\n",
       "#T_1f3e0_row7_col16, #T_1f3e0_row9_col7, #T_1f3e0_row11_col8, #T_1f3e0_row12_col17, #T_1f3e0_row13_col9, #T_1f3e0_row14_col17, #T_1f3e0_row15_col12 {\n",
       "  background-color: #86a9fc;\n",
       "  color: #f1f1f1;\n",
       "}\n",
       "#T_1f3e0_row7_col17 {\n",
       "  background-color: #5b7ae5;\n",
       "  color: #f1f1f1;\n",
       "}\n",
       "#T_1f3e0_row8_col5 {\n",
       "  background-color: #e8765c;\n",
       "  color: #f1f1f1;\n",
       "}\n",
       "#T_1f3e0_row8_col9 {\n",
       "  background-color: #f3c7b1;\n",
       "  color: #000000;\n",
       "}\n",
       "#T_1f3e0_row8_col10, #T_1f3e0_row11_col0 {\n",
       "  background-color: #5572df;\n",
       "  color: #f1f1f1;\n",
       "}\n",
       "#T_1f3e0_row9_col2 {\n",
       "  background-color: #d4dbe6;\n",
       "  color: #000000;\n",
       "}\n",
       "#T_1f3e0_row9_col5 {\n",
       "  background-color: #e9785d;\n",
       "  color: #f1f1f1;\n",
       "}\n",
       "#T_1f3e0_row9_col8 {\n",
       "  background-color: #f7aa8c;\n",
       "  color: #000000;\n",
       "}\n",
       "#T_1f3e0_row9_col12 {\n",
       "  background-color: #d5dbe5;\n",
       "  color: #000000;\n",
       "}\n",
       "#T_1f3e0_row9_col17, #T_1f3e0_row12_col4 {\n",
       "  background-color: #485fd1;\n",
       "  color: #f1f1f1;\n",
       "}\n",
       "#T_1f3e0_row10_col1, #T_1f3e0_row11_col1, #T_1f3e0_row11_col6, #T_1f3e0_row12_col14, #T_1f3e0_row16_col0 {\n",
       "  background-color: #4b64d5;\n",
       "  color: #f1f1f1;\n",
       "}\n",
       "#T_1f3e0_row10_col2, #T_1f3e0_row14_col9 {\n",
       "  background-color: #a3c2fe;\n",
       "  color: #000000;\n",
       "}\n",
       "#T_1f3e0_row10_col3 {\n",
       "  background-color: #e0dbd8;\n",
       "  color: #000000;\n",
       "}\n",
       "#T_1f3e0_row10_col5 {\n",
       "  background-color: #465ecf;\n",
       "  color: #f1f1f1;\n",
       "}\n",
       "#T_1f3e0_row10_col6 {\n",
       "  background-color: #3e51c5;\n",
       "  color: #f1f1f1;\n",
       "}\n",
       "#T_1f3e0_row10_col7 {\n",
       "  background-color: #f4c5ad;\n",
       "  color: #000000;\n",
       "}\n",
       "#T_1f3e0_row10_col9, #T_1f3e0_row14_col6 {\n",
       "  background-color: #4e68d8;\n",
       "  color: #f1f1f1;\n",
       "}\n",
       "#T_1f3e0_row10_col11 {\n",
       "  background-color: #ee8669;\n",
       "  color: #f1f1f1;\n",
       "}\n",
       "#T_1f3e0_row10_col16, #T_1f3e0_row13_col5, #T_1f3e0_row16_col4, #T_1f3e0_row17_col16 {\n",
       "  background-color: #abc8fd;\n",
       "  color: #000000;\n",
       "}\n",
       "#T_1f3e0_row11_col7 {\n",
       "  background-color: #f7b99e;\n",
       "  color: #000000;\n",
       "}\n",
       "#T_1f3e0_row11_col10 {\n",
       "  background-color: #ea7b60;\n",
       "  color: #f1f1f1;\n",
       "}\n",
       "#T_1f3e0_row11_col12 {\n",
       "  background-color: #d7dce3;\n",
       "  color: #000000;\n",
       "}\n",
       "#T_1f3e0_row11_col13, #T_1f3e0_row12_col6, #T_1f3e0_row15_col17 {\n",
       "  background-color: #93b5fe;\n",
       "  color: #000000;\n",
       "}\n",
       "#T_1f3e0_row11_col16 {\n",
       "  background-color: #779af7;\n",
       "  color: #f1f1f1;\n",
       "}\n",
       "#T_1f3e0_row12_col5 {\n",
       "  background-color: #e6d7cf;\n",
       "  color: #000000;\n",
       "}\n",
       "#T_1f3e0_row12_col7, #T_1f3e0_row14_col8, #T_1f3e0_row16_col7 {\n",
       "  background-color: #cbd8ee;\n",
       "  color: #000000;\n",
       "}\n",
       "#T_1f3e0_row12_col8 {\n",
       "  background-color: #d8dce2;\n",
       "  color: #000000;\n",
       "}\n",
       "#T_1f3e0_row12_col13 {\n",
       "  background-color: #b1cbfc;\n",
       "  color: #000000;\n",
       "}\n",
       "#T_1f3e0_row12_col15, #T_1f3e0_row14_col1 {\n",
       "  background-color: #506bda;\n",
       "  color: #f1f1f1;\n",
       "}\n",
       "#T_1f3e0_row13_col4, #T_1f3e0_row14_col3 {\n",
       "  background-color: #88abfd;\n",
       "  color: #000000;\n",
       "}\n",
       "#T_1f3e0_row13_col8 {\n",
       "  background-color: #c4d5f3;\n",
       "  color: #000000;\n",
       "}\n",
       "#T_1f3e0_row13_col11 {\n",
       "  background-color: #a5c3fe;\n",
       "  color: #000000;\n",
       "}\n",
       "#T_1f3e0_row13_col12 {\n",
       "  background-color: #d2dbe8;\n",
       "  color: #000000;\n",
       "}\n",
       "#T_1f3e0_row14_col5 {\n",
       "  background-color: #a6c4fe;\n",
       "  color: #000000;\n",
       "}\n",
       "#T_1f3e0_row14_col7, #T_1f3e0_row14_col10, #T_1f3e0_row15_col13 {\n",
       "  background-color: #bbd1f8;\n",
       "  color: #000000;\n",
       "}\n",
       "#T_1f3e0_row14_col15, #T_1f3e0_row15_col14 {\n",
       "  background-color: #ca3b37;\n",
       "  color: #f1f1f1;\n",
       "}\n",
       "#T_1f3e0_row14_col16 {\n",
       "  background-color: #4358cb;\n",
       "  color: #f1f1f1;\n",
       "}\n",
       "#T_1f3e0_row15_col1, #T_1f3e0_row17_col11 {\n",
       "  background-color: #5a78e4;\n",
       "  color: #f1f1f1;\n",
       "}\n",
       "#T_1f3e0_row15_col5 {\n",
       "  background-color: #a9c6fd;\n",
       "  color: #000000;\n",
       "}\n",
       "#T_1f3e0_row15_col9, #T_1f3e0_row17_col1, #T_1f3e0_row17_col7, #T_1f3e0_row17_col12 {\n",
       "  background-color: #9ebeff;\n",
       "  color: #000000;\n",
       "}\n",
       "#T_1f3e0_row15_col11 {\n",
       "  background-color: #8badfd;\n",
       "  color: #000000;\n",
       "}\n",
       "#T_1f3e0_row15_col16 {\n",
       "  background-color: #455cce;\n",
       "  color: #f1f1f1;\n",
       "}\n",
       "#T_1f3e0_row16_col2 {\n",
       "  background-color: #b3cdfb;\n",
       "  color: #000000;\n",
       "}\n",
       "#T_1f3e0_row16_col10 {\n",
       "  background-color: #cad8ef;\n",
       "  color: #000000;\n",
       "}\n",
       "#T_1f3e0_row17_col8 {\n",
       "  background-color: #dfdbd9;\n",
       "  color: #000000;\n",
       "}\n",
       "#T_1f3e0_row17_col13 {\n",
       "  background-color: #7ea1fa;\n",
       "  color: #f1f1f1;\n",
       "}\n",
       "</style>\n",
       "<table id=\"T_1f3e0\">\n",
       "  <thead>\n",
       "    <tr>\n",
       "      <th class=\"blank level0\" >&nbsp;</th>\n",
       "      <th id=\"T_1f3e0_level0_col0\" class=\"col_heading level0 col0\" >etips</th>\n",
       "      <th id=\"T_1f3e0_level0_col1\" class=\"col_heading level0 col1\" >cash</th>\n",
       "      <th id=\"T_1f3e0_level0_col2\" class=\"col_heading level0 col2\" >deliveries</th>\n",
       "      <th id=\"T_1f3e0_level0_col3\" class=\"col_heading level0 col3\" >km</th>\n",
       "      <th id=\"T_1f3e0_level0_col4\" class=\"col_heading level0 col4\" >hrs</th>\n",
       "      <th id=\"T_1f3e0_level0_col5\" class=\"col_heading level0 col5\" >nethrs</th>\n",
       "      <th id=\"T_1f3e0_level0_col6\" class=\"col_heading level0 col6\" >tipdel</th>\n",
       "      <th id=\"T_1f3e0_level0_col7\" class=\"col_heading level0 col7\" >kmdel</th>\n",
       "      <th id=\"T_1f3e0_level0_col8\" class=\"col_heading level0 col8\" >delhrs</th>\n",
       "      <th id=\"T_1f3e0_level0_col9\" class=\"col_heading level0 col9\" >more</th>\n",
       "      <th id=\"T_1f3e0_level0_col10\" class=\"col_heading level0 col10\" >temp</th>\n",
       "      <th id=\"T_1f3e0_level0_col11\" class=\"col_heading level0 col11\" >dwpt</th>\n",
       "      <th id=\"T_1f3e0_level0_col12\" class=\"col_heading level0 col12\" >rhum</th>\n",
       "      <th id=\"T_1f3e0_level0_col13\" class=\"col_heading level0 col13\" >prcp</th>\n",
       "      <th id=\"T_1f3e0_level0_col14\" class=\"col_heading level0 col14\" >wspd</th>\n",
       "      <th id=\"T_1f3e0_level0_col15\" class=\"col_heading level0 col15\" >wpgt</th>\n",
       "      <th id=\"T_1f3e0_level0_col16\" class=\"col_heading level0 col16\" >pres</th>\n",
       "      <th id=\"T_1f3e0_level0_col17\" class=\"col_heading level0 col17\" >hr</th>\n",
       "    </tr>\n",
       "  </thead>\n",
       "  <tbody>\n",
       "    <tr>\n",
       "      <th id=\"T_1f3e0_level0_row0\" class=\"row_heading level0 row0\" >etips</th>\n",
       "      <td id=\"T_1f3e0_row0_col0\" class=\"data row0 col0\" >1.000000</td>\n",
       "      <td id=\"T_1f3e0_row0_col1\" class=\"data row0 col1\" >0.017685</td>\n",
       "      <td id=\"T_1f3e0_row0_col2\" class=\"data row0 col2\" >0.313728</td>\n",
       "      <td id=\"T_1f3e0_row0_col3\" class=\"data row0 col3\" >0.300184</td>\n",
       "      <td id=\"T_1f3e0_row0_col4\" class=\"data row0 col4\" >0.329432</td>\n",
       "      <td id=\"T_1f3e0_row0_col5\" class=\"data row0 col5\" >0.163914</td>\n",
       "      <td id=\"T_1f3e0_row0_col6\" class=\"data row0 col6\" >0.473306</td>\n",
       "      <td id=\"T_1f3e0_row0_col7\" class=\"data row0 col7\" >-0.034061</td>\n",
       "      <td id=\"T_1f3e0_row0_col8\" class=\"data row0 col8\" >0.052451</td>\n",
       "      <td id=\"T_1f3e0_row0_col9\" class=\"data row0 col9\" >0.024875</td>\n",
       "      <td id=\"T_1f3e0_row0_col10\" class=\"data row0 col10\" >0.020473</td>\n",
       "      <td id=\"T_1f3e0_row0_col11\" class=\"data row0 col11\" >-0.030326</td>\n",
       "      <td id=\"T_1f3e0_row0_col12\" class=\"data row0 col12\" >-0.039656</td>\n",
       "      <td id=\"T_1f3e0_row0_col13\" class=\"data row0 col13\" >0.100138</td>\n",
       "      <td id=\"T_1f3e0_row0_col14\" class=\"data row0 col14\" >0.092598</td>\n",
       "      <td id=\"T_1f3e0_row0_col15\" class=\"data row0 col15\" >0.062697</td>\n",
       "      <td id=\"T_1f3e0_row0_col16\" class=\"data row0 col16\" >-0.065403</td>\n",
       "      <td id=\"T_1f3e0_row0_col17\" class=\"data row0 col17\" >-0.127362</td>\n",
       "    </tr>\n",
       "    <tr>\n",
       "      <th id=\"T_1f3e0_level0_row1\" class=\"row_heading level0 row1\" >cash</th>\n",
       "      <td id=\"T_1f3e0_row1_col0\" class=\"data row1 col0\" >0.017685</td>\n",
       "      <td id=\"T_1f3e0_row1_col1\" class=\"data row1 col1\" >1.000000</td>\n",
       "      <td id=\"T_1f3e0_row1_col2\" class=\"data row1 col2\" >0.500505</td>\n",
       "      <td id=\"T_1f3e0_row1_col3\" class=\"data row1 col3\" >0.204661</td>\n",
       "      <td id=\"T_1f3e0_row1_col4\" class=\"data row1 col4\" >0.184312</td>\n",
       "      <td id=\"T_1f3e0_row1_col5\" class=\"data row1 col5\" >0.526274</td>\n",
       "      <td id=\"T_1f3e0_row1_col6\" class=\"data row1 col6\" >0.597245</td>\n",
       "      <td id=\"T_1f3e0_row1_col7\" class=\"data row1 col7\" >-0.311941</td>\n",
       "      <td id=\"T_1f3e0_row1_col8\" class=\"data row1 col8\" >0.415096</td>\n",
       "      <td id=\"T_1f3e0_row1_col9\" class=\"data row1 col9\" >0.016045</td>\n",
       "      <td id=\"T_1f3e0_row1_col10\" class=\"data row1 col10\" >-0.240111</td>\n",
       "      <td id=\"T_1f3e0_row1_col11\" class=\"data row1 col11\" >-0.235297</td>\n",
       "      <td id=\"T_1f3e0_row1_col12\" class=\"data row1 col12\" >0.063273</td>\n",
       "      <td id=\"T_1f3e0_row1_col13\" class=\"data row1 col13\" >-0.047937</td>\n",
       "      <td id=\"T_1f3e0_row1_col14\" class=\"data row1 col14\" >-0.217477</td>\n",
       "      <td id=\"T_1f3e0_row1_col15\" class=\"data row1 col15\" >-0.174192</td>\n",
       "      <td id=\"T_1f3e0_row1_col16\" class=\"data row1 col16\" >0.084624</td>\n",
       "      <td id=\"T_1f3e0_row1_col17\" class=\"data row1 col17\" >0.077580</td>\n",
       "    </tr>\n",
       "    <tr>\n",
       "      <th id=\"T_1f3e0_level0_row2\" class=\"row_heading level0 row2\" >deliveries</th>\n",
       "      <td id=\"T_1f3e0_row2_col0\" class=\"data row2 col0\" >0.313728</td>\n",
       "      <td id=\"T_1f3e0_row2_col1\" class=\"data row2 col1\" >0.500505</td>\n",
       "      <td id=\"T_1f3e0_row2_col2\" class=\"data row2 col2\" >1.000000</td>\n",
       "      <td id=\"T_1f3e0_row2_col3\" class=\"data row2 col3\" >0.624870</td>\n",
       "      <td id=\"T_1f3e0_row2_col4\" class=\"data row2 col4\" >0.670977</td>\n",
       "      <td id=\"T_1f3e0_row2_col5\" class=\"data row2 col5\" >0.374762</td>\n",
       "      <td id=\"T_1f3e0_row2_col6\" class=\"data row2 col6\" >-0.031678</td>\n",
       "      <td id=\"T_1f3e0_row2_col7\" class=\"data row2 col7\" >-0.445787</td>\n",
       "      <td id=\"T_1f3e0_row2_col8\" class=\"data row2 col8\" >0.555135</td>\n",
       "      <td id=\"T_1f3e0_row2_col9\" class=\"data row2 col9\" >0.231530</td>\n",
       "      <td id=\"T_1f3e0_row2_col10\" class=\"data row2 col10\" >0.008061</td>\n",
       "      <td id=\"T_1f3e0_row2_col11\" class=\"data row2 col11\" >-0.134446</td>\n",
       "      <td id=\"T_1f3e0_row2_col12\" class=\"data row2 col12\" >-0.157115</td>\n",
       "      <td id=\"T_1f3e0_row2_col13\" class=\"data row2 col13\" >-0.017813</td>\n",
       "      <td id=\"T_1f3e0_row2_col14\" class=\"data row2 col14\" >-0.018321</td>\n",
       "      <td id=\"T_1f3e0_row2_col15\" class=\"data row2 col15\" >-0.035154</td>\n",
       "      <td id=\"T_1f3e0_row2_col16\" class=\"data row2 col16\" >0.076331</td>\n",
       "      <td id=\"T_1f3e0_row2_col17\" class=\"data row2 col17\" >-0.200235</td>\n",
       "    </tr>\n",
       "    <tr>\n",
       "      <th id=\"T_1f3e0_level0_row3\" class=\"row_heading level0 row3\" >km</th>\n",
       "      <td id=\"T_1f3e0_row3_col0\" class=\"data row3 col0\" >0.300184</td>\n",
       "      <td id=\"T_1f3e0_row3_col1\" class=\"data row3 col1\" >0.204661</td>\n",
       "      <td id=\"T_1f3e0_row3_col2\" class=\"data row3 col2\" >0.624870</td>\n",
       "      <td id=\"T_1f3e0_row3_col3\" class=\"data row3 col3\" >1.000000</td>\n",
       "      <td id=\"T_1f3e0_row3_col4\" class=\"data row3 col4\" >0.795614</td>\n",
       "      <td id=\"T_1f3e0_row3_col5\" class=\"data row3 col5\" >-0.075877</td>\n",
       "      <td id=\"T_1f3e0_row3_col6\" class=\"data row3 col6\" >-0.020487</td>\n",
       "      <td id=\"T_1f3e0_row3_col7\" class=\"data row3 col7\" >0.385611</td>\n",
       "      <td id=\"T_1f3e0_row3_col8\" class=\"data row3 col8\" >-0.062965</td>\n",
       "      <td id=\"T_1f3e0_row3_col9\" class=\"data row3 col9\" >-0.041179</td>\n",
       "      <td id=\"T_1f3e0_row3_col10\" class=\"data row3 col10\" >0.337323</td>\n",
       "      <td id=\"T_1f3e0_row3_col11\" class=\"data row3 col11\" >0.232814</td>\n",
       "      <td id=\"T_1f3e0_row3_col12\" class=\"data row3 col12\" >-0.175671</td>\n",
       "      <td id=\"T_1f3e0_row3_col13\" class=\"data row3 col13\" >-0.022745</td>\n",
       "      <td id=\"T_1f3e0_row3_col14\" class=\"data row3 col14\" >-0.045884</td>\n",
       "      <td id=\"T_1f3e0_row3_col15\" class=\"data row3 col15\" >-0.058179</td>\n",
       "      <td id=\"T_1f3e0_row3_col16\" class=\"data row3 col16\" >0.100950</td>\n",
       "      <td id=\"T_1f3e0_row3_col17\" class=\"data row3 col17\" >-0.367905</td>\n",
       "    </tr>\n",
       "    <tr>\n",
       "      <th id=\"T_1f3e0_level0_row4\" class=\"row_heading level0 row4\" >hrs</th>\n",
       "      <td id=\"T_1f3e0_row4_col0\" class=\"data row4 col0\" >0.329432</td>\n",
       "      <td id=\"T_1f3e0_row4_col1\" class=\"data row4 col1\" >0.184312</td>\n",
       "      <td id=\"T_1f3e0_row4_col2\" class=\"data row4 col2\" >0.670977</td>\n",
       "      <td id=\"T_1f3e0_row4_col3\" class=\"data row4 col3\" >0.795614</td>\n",
       "      <td id=\"T_1f3e0_row4_col4\" class=\"data row4 col4\" >1.000000</td>\n",
       "      <td id=\"T_1f3e0_row4_col5\" class=\"data row4 col5\" >-0.213707</td>\n",
       "      <td id=\"T_1f3e0_row4_col6\" class=\"data row4 col6\" >-0.071738</td>\n",
       "      <td id=\"T_1f3e0_row4_col7\" class=\"data row4 col7\" >0.126062</td>\n",
       "      <td id=\"T_1f3e0_row4_col8\" class=\"data row4 col8\" >-0.209887</td>\n",
       "      <td id=\"T_1f3e0_row4_col9\" class=\"data row4 col9\" >-0.160133</td>\n",
       "      <td id=\"T_1f3e0_row4_col10\" class=\"data row4 col10\" >0.359691</td>\n",
       "      <td id=\"T_1f3e0_row4_col11\" class=\"data row4 col11\" >0.157256</td>\n",
       "      <td id=\"T_1f3e0_row4_col12\" class=\"data row4 col12\" >-0.287559</td>\n",
       "      <td id=\"T_1f3e0_row4_col13\" class=\"data row4 col13\" >-0.029036</td>\n",
       "      <td id=\"T_1f3e0_row4_col14\" class=\"data row4 col14\" >0.006925</td>\n",
       "      <td id=\"T_1f3e0_row4_col15\" class=\"data row4 col15\" >-0.044397</td>\n",
       "      <td id=\"T_1f3e0_row4_col16\" class=\"data row4 col16\" >0.106658</td>\n",
       "      <td id=\"T_1f3e0_row4_col17\" class=\"data row4 col17\" >-0.345600</td>\n",
       "    </tr>\n",
       "    <tr>\n",
       "      <th id=\"T_1f3e0_level0_row5\" class=\"row_heading level0 row5\" >nethrs</th>\n",
       "      <td id=\"T_1f3e0_row5_col0\" class=\"data row5 col0\" >0.163914</td>\n",
       "      <td id=\"T_1f3e0_row5_col1\" class=\"data row5 col1\" >0.526274</td>\n",
       "      <td id=\"T_1f3e0_row5_col2\" class=\"data row5 col2\" >0.374762</td>\n",
       "      <td id=\"T_1f3e0_row5_col3\" class=\"data row5 col3\" >-0.075877</td>\n",
       "      <td id=\"T_1f3e0_row5_col4\" class=\"data row5 col4\" >-0.213707</td>\n",
       "      <td id=\"T_1f3e0_row5_col5\" class=\"data row5 col5\" >1.000000</td>\n",
       "      <td id=\"T_1f3e0_row5_col6\" class=\"data row5 col6\" >0.309585</td>\n",
       "      <td id=\"T_1f3e0_row5_col7\" class=\"data row5 col7\" >-0.522432</td>\n",
       "      <td id=\"T_1f3e0_row5_col8\" class=\"data row5 col8\" >0.740388</td>\n",
       "      <td id=\"T_1f3e0_row5_col9\" class=\"data row5 col9\" >0.735655</td>\n",
       "      <td id=\"T_1f3e0_row5_col10\" class=\"data row5 col10\" >-0.462851</td>\n",
       "      <td id=\"T_1f3e0_row5_col11\" class=\"data row5 col11\" >-0.307072</td>\n",
       "      <td id=\"T_1f3e0_row5_col12\" class=\"data row5 col12\" >0.296612</td>\n",
       "      <td id=\"T_1f3e0_row5_col13\" class=\"data row5 col13\" >-0.007342</td>\n",
       "      <td id=\"T_1f3e0_row5_col14\" class=\"data row5 col14\" >-0.033432</td>\n",
       "      <td id=\"T_1f3e0_row5_col15\" class=\"data row5 col15\" >-0.020779</td>\n",
       "      <td id=\"T_1f3e0_row5_col16\" class=\"data row5 col16\" >-0.099501</td>\n",
       "      <td id=\"T_1f3e0_row5_col17\" class=\"data row5 col17\" >-0.120276</td>\n",
       "    </tr>\n",
       "    <tr>\n",
       "      <th id=\"T_1f3e0_level0_row6\" class=\"row_heading level0 row6\" >tipdel</th>\n",
       "      <td id=\"T_1f3e0_row6_col0\" class=\"data row6 col0\" >0.473306</td>\n",
       "      <td id=\"T_1f3e0_row6_col1\" class=\"data row6 col1\" >0.597245</td>\n",
       "      <td id=\"T_1f3e0_row6_col2\" class=\"data row6 col2\" >-0.031678</td>\n",
       "      <td id=\"T_1f3e0_row6_col3\" class=\"data row6 col3\" >-0.020487</td>\n",
       "      <td id=\"T_1f3e0_row6_col4\" class=\"data row6 col4\" >-0.071738</td>\n",
       "      <td id=\"T_1f3e0_row6_col5\" class=\"data row6 col5\" >0.309585</td>\n",
       "      <td id=\"T_1f3e0_row6_col6\" class=\"data row6 col6\" >1.000000</td>\n",
       "      <td id=\"T_1f3e0_row6_col7\" class=\"data row6 col7\" >0.035473</td>\n",
       "      <td id=\"T_1f3e0_row6_col8\" class=\"data row6 col8\" >0.021313</td>\n",
       "      <td id=\"T_1f3e0_row6_col9\" class=\"data row6 col9\" >-0.204002</td>\n",
       "      <td id=\"T_1f3e0_row6_col10\" class=\"data row6 col10\" >-0.188639</td>\n",
       "      <td id=\"T_1f3e0_row6_col11\" class=\"data row6 col11\" >-0.137792</td>\n",
       "      <td id=\"T_1f3e0_row6_col12\" class=\"data row6 col12\" >0.117457</td>\n",
       "      <td id=\"T_1f3e0_row6_col13\" class=\"data row6 col13\" >0.038421</td>\n",
       "      <td id=\"T_1f3e0_row6_col14\" class=\"data row6 col14\" >-0.127640</td>\n",
       "      <td id=\"T_1f3e0_row6_col15\" class=\"data row6 col15\" >-0.082007</td>\n",
       "      <td id=\"T_1f3e0_row6_col16\" class=\"data row6 col16\" >-0.004268</td>\n",
       "      <td id=\"T_1f3e0_row6_col17\" class=\"data row6 col17\" >0.135301</td>\n",
       "    </tr>\n",
       "    <tr>\n",
       "      <th id=\"T_1f3e0_level0_row7\" class=\"row_heading level0 row7\" >kmdel</th>\n",
       "      <td id=\"T_1f3e0_row7_col0\" class=\"data row7 col0\" >-0.034061</td>\n",
       "      <td id=\"T_1f3e0_row7_col1\" class=\"data row7 col1\" >-0.311941</td>\n",
       "      <td id=\"T_1f3e0_row7_col2\" class=\"data row7 col2\" >-0.445787</td>\n",
       "      <td id=\"T_1f3e0_row7_col3\" class=\"data row7 col3\" >0.385611</td>\n",
       "      <td id=\"T_1f3e0_row7_col4\" class=\"data row7 col4\" >0.126062</td>\n",
       "      <td id=\"T_1f3e0_row7_col5\" class=\"data row7 col5\" >-0.522432</td>\n",
       "      <td id=\"T_1f3e0_row7_col6\" class=\"data row7 col6\" >0.035473</td>\n",
       "      <td id=\"T_1f3e0_row7_col7\" class=\"data row7 col7\" >1.000000</td>\n",
       "      <td id=\"T_1f3e0_row7_col8\" class=\"data row7 col8\" >-0.744444</td>\n",
       "      <td id=\"T_1f3e0_row7_col9\" class=\"data row7 col9\" >-0.335614</td>\n",
       "      <td id=\"T_1f3e0_row7_col10\" class=\"data row7 col10\" >0.340707</td>\n",
       "      <td id=\"T_1f3e0_row7_col11\" class=\"data row7 col11\" >0.412720</td>\n",
       "      <td id=\"T_1f3e0_row7_col12\" class=\"data row7 col12\" >0.017247</td>\n",
       "      <td id=\"T_1f3e0_row7_col13\" class=\"data row7 col13\" >0.023972</td>\n",
       "      <td id=\"T_1f3e0_row7_col14\" class=\"data row7 col14\" >-0.074377</td>\n",
       "      <td id=\"T_1f3e0_row7_col15\" class=\"data row7 col15\" >-0.086303</td>\n",
       "      <td id=\"T_1f3e0_row7_col16\" class=\"data row7 col16\" >0.017747</td>\n",
       "      <td id=\"T_1f3e0_row7_col17\" class=\"data row7 col17\" >-0.223182</td>\n",
       "    </tr>\n",
       "    <tr>\n",
       "      <th id=\"T_1f3e0_level0_row8\" class=\"row_heading level0 row8\" >delhrs</th>\n",
       "      <td id=\"T_1f3e0_row8_col0\" class=\"data row8 col0\" >0.052451</td>\n",
       "      <td id=\"T_1f3e0_row8_col1\" class=\"data row8 col1\" >0.415096</td>\n",
       "      <td id=\"T_1f3e0_row8_col2\" class=\"data row8 col2\" >0.555135</td>\n",
       "      <td id=\"T_1f3e0_row8_col3\" class=\"data row8 col3\" >-0.062965</td>\n",
       "      <td id=\"T_1f3e0_row8_col4\" class=\"data row8 col4\" >-0.209887</td>\n",
       "      <td id=\"T_1f3e0_row8_col5\" class=\"data row8 col5\" >0.740388</td>\n",
       "      <td id=\"T_1f3e0_row8_col6\" class=\"data row8 col6\" >0.021313</td>\n",
       "      <td id=\"T_1f3e0_row8_col7\" class=\"data row8 col7\" >-0.744444</td>\n",
       "      <td id=\"T_1f3e0_row8_col8\" class=\"data row8 col8\" >1.000000</td>\n",
       "      <td id=\"T_1f3e0_row8_col9\" class=\"data row8 col9\" >0.485754</td>\n",
       "      <td id=\"T_1f3e0_row8_col10\" class=\"data row8 col10\" >-0.361877</td>\n",
       "      <td id=\"T_1f3e0_row8_col11\" class=\"data row8 col11\" >-0.337314</td>\n",
       "      <td id=\"T_1f3e0_row8_col12\" class=\"data row8 col12\" >0.094514</td>\n",
       "      <td id=\"T_1f3e0_row8_col13\" class=\"data row8 col13\" >-0.028896</td>\n",
       "      <td id=\"T_1f3e0_row8_col14\" class=\"data row8 col14\" >0.014208</td>\n",
       "      <td id=\"T_1f3e0_row8_col15\" class=\"data row8 col15\" >0.048531</td>\n",
       "      <td id=\"T_1f3e0_row8_col16\" class=\"data row8 col16\" >-0.014817</td>\n",
       "      <td id=\"T_1f3e0_row8_col17\" class=\"data row8 col17\" >0.142938</td>\n",
       "    </tr>\n",
       "    <tr>\n",
       "      <th id=\"T_1f3e0_level0_row9\" class=\"row_heading level0 row9\" >more</th>\n",
       "      <td id=\"T_1f3e0_row9_col0\" class=\"data row9 col0\" >0.024875</td>\n",
       "      <td id=\"T_1f3e0_row9_col1\" class=\"data row9 col1\" >0.016045</td>\n",
       "      <td id=\"T_1f3e0_row9_col2\" class=\"data row9 col2\" >0.231530</td>\n",
       "      <td id=\"T_1f3e0_row9_col3\" class=\"data row9 col3\" >-0.041179</td>\n",
       "      <td id=\"T_1f3e0_row9_col4\" class=\"data row9 col4\" >-0.160133</td>\n",
       "      <td id=\"T_1f3e0_row9_col5\" class=\"data row9 col5\" >0.735655</td>\n",
       "      <td id=\"T_1f3e0_row9_col6\" class=\"data row9 col6\" >-0.204002</td>\n",
       "      <td id=\"T_1f3e0_row9_col7\" class=\"data row9 col7\" >-0.335614</td>\n",
       "      <td id=\"T_1f3e0_row9_col8\" class=\"data row9 col8\" >0.485754</td>\n",
       "      <td id=\"T_1f3e0_row9_col9\" class=\"data row9 col9\" >1.000000</td>\n",
       "      <td id=\"T_1f3e0_row9_col10\" class=\"data row9 col10\" >-0.249941</td>\n",
       "      <td id=\"T_1f3e0_row9_col11\" class=\"data row9 col11\" >-0.123949</td>\n",
       "      <td id=\"T_1f3e0_row9_col12\" class=\"data row9 col12\" >0.207821</td>\n",
       "      <td id=\"T_1f3e0_row9_col13\" class=\"data row9 col13\" >-0.024706</td>\n",
       "      <td id=\"T_1f3e0_row9_col14\" class=\"data row9 col14\" >0.083058</td>\n",
       "      <td id=\"T_1f3e0_row9_col15\" class=\"data row9 col15\" >0.061916</td>\n",
       "      <td id=\"T_1f3e0_row9_col16\" class=\"data row9 col16\" >-0.087385</td>\n",
       "      <td id=\"T_1f3e0_row9_col17\" class=\"data row9 col17\" >-0.304874</td>\n",
       "    </tr>\n",
       "    <tr>\n",
       "      <th id=\"T_1f3e0_level0_row10\" class=\"row_heading level0 row10\" >temp</th>\n",
       "      <td id=\"T_1f3e0_row10_col0\" class=\"data row10 col0\" >0.020473</td>\n",
       "      <td id=\"T_1f3e0_row10_col1\" class=\"data row10 col1\" >-0.240111</td>\n",
       "      <td id=\"T_1f3e0_row10_col2\" class=\"data row10 col2\" >0.008061</td>\n",
       "      <td id=\"T_1f3e0_row10_col3\" class=\"data row10 col3\" >0.337323</td>\n",
       "      <td id=\"T_1f3e0_row10_col4\" class=\"data row10 col4\" >0.359691</td>\n",
       "      <td id=\"T_1f3e0_row10_col5\" class=\"data row10 col5\" >-0.462851</td>\n",
       "      <td id=\"T_1f3e0_row10_col6\" class=\"data row10 col6\" >-0.188639</td>\n",
       "      <td id=\"T_1f3e0_row10_col7\" class=\"data row10 col7\" >0.340707</td>\n",
       "      <td id=\"T_1f3e0_row10_col8\" class=\"data row10 col8\" >-0.361877</td>\n",
       "      <td id=\"T_1f3e0_row10_col9\" class=\"data row10 col9\" >-0.249941</td>\n",
       "      <td id=\"T_1f3e0_row10_col10\" class=\"data row10 col10\" >1.000000</td>\n",
       "      <td id=\"T_1f3e0_row10_col11\" class=\"data row10 col11\" >0.728243</td>\n",
       "      <td id=\"T_1f3e0_row10_col12\" class=\"data row10 col12\" >-0.492379</td>\n",
       "      <td id=\"T_1f3e0_row10_col13\" class=\"data row10 col13\" >-0.050425</td>\n",
       "      <td id=\"T_1f3e0_row10_col14\" class=\"data row10 col14\" >0.083275</td>\n",
       "      <td id=\"T_1f3e0_row10_col15\" class=\"data row10 col15\" >0.063074</td>\n",
       "      <td id=\"T_1f3e0_row10_col16\" class=\"data row10 col16\" >0.152775</td>\n",
       "      <td id=\"T_1f3e0_row10_col17\" class=\"data row10 col17\" >-0.153460</td>\n",
       "    </tr>\n",
       "    <tr>\n",
       "      <th id=\"T_1f3e0_level0_row11\" class=\"row_heading level0 row11\" >dwpt</th>\n",
       "      <td id=\"T_1f3e0_row11_col0\" class=\"data row11 col0\" >-0.030326</td>\n",
       "      <td id=\"T_1f3e0_row11_col1\" class=\"data row11 col1\" >-0.235297</td>\n",
       "      <td id=\"T_1f3e0_row11_col2\" class=\"data row11 col2\" >-0.134446</td>\n",
       "      <td id=\"T_1f3e0_row11_col3\" class=\"data row11 col3\" >0.232814</td>\n",
       "      <td id=\"T_1f3e0_row11_col4\" class=\"data row11 col4\" >0.157256</td>\n",
       "      <td id=\"T_1f3e0_row11_col5\" class=\"data row11 col5\" >-0.307072</td>\n",
       "      <td id=\"T_1f3e0_row11_col6\" class=\"data row11 col6\" >-0.137792</td>\n",
       "      <td id=\"T_1f3e0_row11_col7\" class=\"data row11 col7\" >0.412720</td>\n",
       "      <td id=\"T_1f3e0_row11_col8\" class=\"data row11 col8\" >-0.337314</td>\n",
       "      <td id=\"T_1f3e0_row11_col9\" class=\"data row11 col9\" >-0.123949</td>\n",
       "      <td id=\"T_1f3e0_row11_col10\" class=\"data row11 col10\" >0.728243</td>\n",
       "      <td id=\"T_1f3e0_row11_col11\" class=\"data row11 col11\" >1.000000</td>\n",
       "      <td id=\"T_1f3e0_row11_col12\" class=\"data row11 col12\" >0.224120</td>\n",
       "      <td id=\"T_1f3e0_row11_col13\" class=\"data row11 col13\" >0.087715</td>\n",
       "      <td id=\"T_1f3e0_row11_col14\" class=\"data row11 col14\" >-0.003717</td>\n",
       "      <td id=\"T_1f3e0_row11_col15\" class=\"data row11 col15\" >-0.012823</td>\n",
       "      <td id=\"T_1f3e0_row11_col16\" class=\"data row11 col16\" >-0.037308</td>\n",
       "      <td id=\"T_1f3e0_row11_col17\" class=\"data row11 col17\" >-0.198225</td>\n",
       "    </tr>\n",
       "    <tr>\n",
       "      <th id=\"T_1f3e0_level0_row12\" class=\"row_heading level0 row12\" >rhum</th>\n",
       "      <td id=\"T_1f3e0_row12_col0\" class=\"data row12 col0\" >-0.039656</td>\n",
       "      <td id=\"T_1f3e0_row12_col1\" class=\"data row12 col1\" >0.063273</td>\n",
       "      <td id=\"T_1f3e0_row12_col2\" class=\"data row12 col2\" >-0.157115</td>\n",
       "      <td id=\"T_1f3e0_row12_col3\" class=\"data row12 col3\" >-0.175671</td>\n",
       "      <td id=\"T_1f3e0_row12_col4\" class=\"data row12 col4\" >-0.287559</td>\n",
       "      <td id=\"T_1f3e0_row12_col5\" class=\"data row12 col5\" >0.296612</td>\n",
       "      <td id=\"T_1f3e0_row12_col6\" class=\"data row12 col6\" >0.117457</td>\n",
       "      <td id=\"T_1f3e0_row12_col7\" class=\"data row12 col7\" >0.017247</td>\n",
       "      <td id=\"T_1f3e0_row12_col8\" class=\"data row12 col8\" >0.094514</td>\n",
       "      <td id=\"T_1f3e0_row12_col9\" class=\"data row12 col9\" >0.207821</td>\n",
       "      <td id=\"T_1f3e0_row12_col10\" class=\"data row12 col10\" >-0.492379</td>\n",
       "      <td id=\"T_1f3e0_row12_col11\" class=\"data row12 col11\" >0.224120</td>\n",
       "      <td id=\"T_1f3e0_row12_col12\" class=\"data row12 col12\" >1.000000</td>\n",
       "      <td id=\"T_1f3e0_row12_col13\" class=\"data row12 col13\" >0.194335</td>\n",
       "      <td id=\"T_1f3e0_row12_col14\" class=\"data row12 col14\" >-0.169769</td>\n",
       "      <td id=\"T_1f3e0_row12_col15\" class=\"data row12 col15\" >-0.142789</td>\n",
       "      <td id=\"T_1f3e0_row12_col16\" class=\"data row12 col16\" >-0.278384</td>\n",
       "      <td id=\"T_1f3e0_row12_col17\" class=\"data row12 col17\" >-0.048996</td>\n",
       "    </tr>\n",
       "    <tr>\n",
       "      <th id=\"T_1f3e0_level0_row13\" class=\"row_heading level0 row13\" >prcp</th>\n",
       "      <td id=\"T_1f3e0_row13_col0\" class=\"data row13 col0\" >0.100138</td>\n",
       "      <td id=\"T_1f3e0_row13_col1\" class=\"data row13 col1\" >-0.047937</td>\n",
       "      <td id=\"T_1f3e0_row13_col2\" class=\"data row13 col2\" >-0.017813</td>\n",
       "      <td id=\"T_1f3e0_row13_col3\" class=\"data row13 col3\" >-0.022745</td>\n",
       "      <td id=\"T_1f3e0_row13_col4\" class=\"data row13 col4\" >-0.029036</td>\n",
       "      <td id=\"T_1f3e0_row13_col5\" class=\"data row13 col5\" >-0.007342</td>\n",
       "      <td id=\"T_1f3e0_row13_col6\" class=\"data row13 col6\" >0.038421</td>\n",
       "      <td id=\"T_1f3e0_row13_col7\" class=\"data row13 col7\" >0.023972</td>\n",
       "      <td id=\"T_1f3e0_row13_col8\" class=\"data row13 col8\" >-0.028896</td>\n",
       "      <td id=\"T_1f3e0_row13_col9\" class=\"data row13 col9\" >-0.024706</td>\n",
       "      <td id=\"T_1f3e0_row13_col10\" class=\"data row13 col10\" >-0.050425</td>\n",
       "      <td id=\"T_1f3e0_row13_col11\" class=\"data row13 col11\" >0.087715</td>\n",
       "      <td id=\"T_1f3e0_row13_col12\" class=\"data row13 col12\" >0.194335</td>\n",
       "      <td id=\"T_1f3e0_row13_col13\" class=\"data row13 col13\" >1.000000</td>\n",
       "      <td id=\"T_1f3e0_row13_col14\" class=\"data row13 col14\" >0.215889</td>\n",
       "      <td id=\"T_1f3e0_row13_col15\" class=\"data row13 col15\" >0.231496</td>\n",
       "      <td id=\"T_1f3e0_row13_col16\" class=\"data row13 col16\" >-0.248860</td>\n",
       "      <td id=\"T_1f3e0_row13_col17\" class=\"data row13 col17\" >0.011877</td>\n",
       "    </tr>\n",
       "    <tr>\n",
       "      <th id=\"T_1f3e0_level0_row14\" class=\"row_heading level0 row14\" >wspd</th>\n",
       "      <td id=\"T_1f3e0_row14_col0\" class=\"data row14 col0\" >0.092598</td>\n",
       "      <td id=\"T_1f3e0_row14_col1\" class=\"data row14 col1\" >-0.217477</td>\n",
       "      <td id=\"T_1f3e0_row14_col2\" class=\"data row14 col2\" >-0.018321</td>\n",
       "      <td id=\"T_1f3e0_row14_col3\" class=\"data row14 col3\" >-0.045884</td>\n",
       "      <td id=\"T_1f3e0_row14_col4\" class=\"data row14 col4\" >0.006925</td>\n",
       "      <td id=\"T_1f3e0_row14_col5\" class=\"data row14 col5\" >-0.033432</td>\n",
       "      <td id=\"T_1f3e0_row14_col6\" class=\"data row14 col6\" >-0.127640</td>\n",
       "      <td id=\"T_1f3e0_row14_col7\" class=\"data row14 col7\" >-0.074377</td>\n",
       "      <td id=\"T_1f3e0_row14_col8\" class=\"data row14 col8\" >0.014208</td>\n",
       "      <td id=\"T_1f3e0_row14_col9\" class=\"data row14 col9\" >0.083058</td>\n",
       "      <td id=\"T_1f3e0_row14_col10\" class=\"data row14 col10\" >0.083275</td>\n",
       "      <td id=\"T_1f3e0_row14_col11\" class=\"data row14 col11\" >-0.003717</td>\n",
       "      <td id=\"T_1f3e0_row14_col12\" class=\"data row14 col12\" >-0.169769</td>\n",
       "      <td id=\"T_1f3e0_row14_col13\" class=\"data row14 col13\" >0.215889</td>\n",
       "      <td id=\"T_1f3e0_row14_col14\" class=\"data row14 col14\" >1.000000</td>\n",
       "      <td id=\"T_1f3e0_row14_col15\" class=\"data row14 col15\" >0.924191</td>\n",
       "      <td id=\"T_1f3e0_row14_col16\" class=\"data row14 col16\" >-0.242455</td>\n",
       "      <td id=\"T_1f3e0_row14_col17\" class=\"data row14 col17\" >-0.049236</td>\n",
       "    </tr>\n",
       "    <tr>\n",
       "      <th id=\"T_1f3e0_level0_row15\" class=\"row_heading level0 row15\" >wpgt</th>\n",
       "      <td id=\"T_1f3e0_row15_col0\" class=\"data row15 col0\" >0.062697</td>\n",
       "      <td id=\"T_1f3e0_row15_col1\" class=\"data row15 col1\" >-0.174192</td>\n",
       "      <td id=\"T_1f3e0_row15_col2\" class=\"data row15 col2\" >-0.035154</td>\n",
       "      <td id=\"T_1f3e0_row15_col3\" class=\"data row15 col3\" >-0.058179</td>\n",
       "      <td id=\"T_1f3e0_row15_col4\" class=\"data row15 col4\" >-0.044397</td>\n",
       "      <td id=\"T_1f3e0_row15_col5\" class=\"data row15 col5\" >-0.020779</td>\n",
       "      <td id=\"T_1f3e0_row15_col6\" class=\"data row15 col6\" >-0.082007</td>\n",
       "      <td id=\"T_1f3e0_row15_col7\" class=\"data row15 col7\" >-0.086303</td>\n",
       "      <td id=\"T_1f3e0_row15_col8\" class=\"data row15 col8\" >0.048531</td>\n",
       "      <td id=\"T_1f3e0_row15_col9\" class=\"data row15 col9\" >0.061916</td>\n",
       "      <td id=\"T_1f3e0_row15_col10\" class=\"data row15 col10\" >0.063074</td>\n",
       "      <td id=\"T_1f3e0_row15_col11\" class=\"data row15 col11\" >-0.012823</td>\n",
       "      <td id=\"T_1f3e0_row15_col12\" class=\"data row15 col12\" >-0.142789</td>\n",
       "      <td id=\"T_1f3e0_row15_col13\" class=\"data row15 col13\" >0.231496</td>\n",
       "      <td id=\"T_1f3e0_row15_col14\" class=\"data row15 col14\" >0.924191</td>\n",
       "      <td id=\"T_1f3e0_row15_col15\" class=\"data row15 col15\" >1.000000</td>\n",
       "      <td id=\"T_1f3e0_row15_col16\" class=\"data row15 col16\" >-0.232976</td>\n",
       "      <td id=\"T_1f3e0_row15_col17\" class=\"data row15 col17\" >-0.003107</td>\n",
       "    </tr>\n",
       "    <tr>\n",
       "      <th id=\"T_1f3e0_level0_row16\" class=\"row_heading level0 row16\" >pres</th>\n",
       "      <td id=\"T_1f3e0_row16_col0\" class=\"data row16 col0\" >-0.065403</td>\n",
       "      <td id=\"T_1f3e0_row16_col1\" class=\"data row16 col1\" >0.084624</td>\n",
       "      <td id=\"T_1f3e0_row16_col2\" class=\"data row16 col2\" >0.076331</td>\n",
       "      <td id=\"T_1f3e0_row16_col3\" class=\"data row16 col3\" >0.100950</td>\n",
       "      <td id=\"T_1f3e0_row16_col4\" class=\"data row16 col4\" >0.106658</td>\n",
       "      <td id=\"T_1f3e0_row16_col5\" class=\"data row16 col5\" >-0.099501</td>\n",
       "      <td id=\"T_1f3e0_row16_col6\" class=\"data row16 col6\" >-0.004268</td>\n",
       "      <td id=\"T_1f3e0_row16_col7\" class=\"data row16 col7\" >0.017747</td>\n",
       "      <td id=\"T_1f3e0_row16_col8\" class=\"data row16 col8\" >-0.014817</td>\n",
       "      <td id=\"T_1f3e0_row16_col9\" class=\"data row16 col9\" >-0.087385</td>\n",
       "      <td id=\"T_1f3e0_row16_col10\" class=\"data row16 col10\" >0.152775</td>\n",
       "      <td id=\"T_1f3e0_row16_col11\" class=\"data row16 col11\" >-0.037308</td>\n",
       "      <td id=\"T_1f3e0_row16_col12\" class=\"data row16 col12\" >-0.278384</td>\n",
       "      <td id=\"T_1f3e0_row16_col13\" class=\"data row16 col13\" >-0.248860</td>\n",
       "      <td id=\"T_1f3e0_row16_col14\" class=\"data row16 col14\" >-0.242455</td>\n",
       "      <td id=\"T_1f3e0_row16_col15\" class=\"data row16 col15\" >-0.232976</td>\n",
       "      <td id=\"T_1f3e0_row16_col16\" class=\"data row16 col16\" >1.000000</td>\n",
       "      <td id=\"T_1f3e0_row16_col17\" class=\"data row16 col17\" >0.152492</td>\n",
       "    </tr>\n",
       "    <tr>\n",
       "      <th id=\"T_1f3e0_level0_row17\" class=\"row_heading level0 row17\" >hr</th>\n",
       "      <td id=\"T_1f3e0_row17_col0\" class=\"data row17 col0\" >-0.127362</td>\n",
       "      <td id=\"T_1f3e0_row17_col1\" class=\"data row17 col1\" >0.077580</td>\n",
       "      <td id=\"T_1f3e0_row17_col2\" class=\"data row17 col2\" >-0.200235</td>\n",
       "      <td id=\"T_1f3e0_row17_col3\" class=\"data row17 col3\" >-0.367905</td>\n",
       "      <td id=\"T_1f3e0_row17_col4\" class=\"data row17 col4\" >-0.345600</td>\n",
       "      <td id=\"T_1f3e0_row17_col5\" class=\"data row17 col5\" >-0.120276</td>\n",
       "      <td id=\"T_1f3e0_row17_col6\" class=\"data row17 col6\" >0.135301</td>\n",
       "      <td id=\"T_1f3e0_row17_col7\" class=\"data row17 col7\" >-0.223182</td>\n",
       "      <td id=\"T_1f3e0_row17_col8\" class=\"data row17 col8\" >0.142938</td>\n",
       "      <td id=\"T_1f3e0_row17_col9\" class=\"data row17 col9\" >-0.304874</td>\n",
       "      <td id=\"T_1f3e0_row17_col10\" class=\"data row17 col10\" >-0.153460</td>\n",
       "      <td id=\"T_1f3e0_row17_col11\" class=\"data row17 col11\" >-0.198225</td>\n",
       "      <td id=\"T_1f3e0_row17_col12\" class=\"data row17 col12\" >-0.048996</td>\n",
       "      <td id=\"T_1f3e0_row17_col13\" class=\"data row17 col13\" >0.011877</td>\n",
       "      <td id=\"T_1f3e0_row17_col14\" class=\"data row17 col14\" >-0.049236</td>\n",
       "      <td id=\"T_1f3e0_row17_col15\" class=\"data row17 col15\" >-0.003107</td>\n",
       "      <td id=\"T_1f3e0_row17_col16\" class=\"data row17 col16\" >0.152492</td>\n",
       "      <td id=\"T_1f3e0_row17_col17\" class=\"data row17 col17\" >1.000000</td>\n",
       "    </tr>\n",
       "  </tbody>\n",
       "</table>\n"
      ],
      "text/plain": [
       "<pandas.io.formats.style.Styler at 0x7f98979f32b0>"
      ]
     },
     "execution_count": 21,
     "metadata": {},
     "output_type": "execute_result"
    }
   ],
   "source": [
    "corr = we.corr()\n",
    "corr.style.background_gradient(cmap='coolwarm')"
   ]
  },
  {
   "cell_type": "markdown",
   "metadata": {},
   "source": [
    "There are interesting correlation to point out:\n",
    "\n",
    " * *delhrs kmdel -0.45* it seems trivial, but more short was the delivery distance more easier it was to make more deliveries.   \n",
    " * *nethrs kmdel -0.52* and thus earning more: the shorter the deliveries the higher is net/hrs value\n",
    " \n",
    " * *nethrs temp -0.46*  negative correlation with temperature and earnings\n",
    " * *kmdel temp +0.34*  positive correlation with temperature and distance per every delivery\n",
    " * *delhrs temp -0.36*  negative correlation with temperature and deliveries made in one hour\n",
    "\n",
    "\n",
    "These 4 indicators are linked together: the lower the temperature, the more the orders increase, so the distance between the restaurant and the customer is lowered (the app gives priority to deliveries close by), then the number of deliveries made in an hour increases as well as Net/hrs.\n",
    "\n",
    "Strangely I didn't found any evident correlation with Precipitation and Windspeed"
   ]
  },
  {
   "cell_type": "markdown",
   "metadata": {},
   "source": [
    "## Rappresentation of  temperature, wind and the precipitation during my working hours"
   ]
  },
  {
   "cell_type": "code",
   "execution_count": 22,
   "metadata": {},
   "outputs": [
    {
     "data": {
      "text/plain": [
       "date  date\n",
       "2020  12      4.075\n",
       "2021  1       1.100\n",
       "      2       1.600\n",
       "      3       6.100\n",
       "      4       7.600\n",
       "Name: temp, dtype: float64"
      ]
     },
     "execution_count": 22,
     "metadata": {},
     "output_type": "execute_result"
    }
   ],
   "source": [
    "we.index = we.date\n",
    "we.groupby(by=[we.index.year,we.index.month]).temp.median() # median temperature for every month"
   ]
  },
  {
   "cell_type": "markdown",
   "metadata": {},
   "source": [
    "The coldest month were January (1.1 °C) and February (1.6°C), this is supported also by the fact that I was biking mainly during late afternoon / night."
   ]
  },
  {
   "cell_type": "code",
   "execution_count": 23,
   "metadata": {},
   "outputs": [
    {
     "data": {
      "image/png": "[encoded data removed]",
      "text/plain": [
       "<Figure size 432x288 with 1 Axes>"
      ]
     },
     "metadata": {
      "needs_background": "light"
     },
     "output_type": "display_data"
    }
   ],
   "source": [
    "sns.boxplot(x='temp',data=we)\n",
    "plt.title('Temperature boxplot')\n",
    "plt.show()"
   ]
  },
  {
   "cell_type": "markdown",
   "metadata": {},
   "source": [
    "Temperatures spans from -8°C to 22°C, mean temperature around 4.5°C"
   ]
  },
  {
   "cell_type": "code",
   "execution_count": 24,
   "metadata": {},
   "outputs": [
    {
     "data": {
      "image/png": "[encoded data removed]",
      "text/plain": [
       "<Figure size 432x288 with 1 Axes>"
      ]
     },
     "metadata": {
      "needs_background": "light"
     },
     "output_type": "display_data"
    }
   ],
   "source": [
    "sns.boxplot(x='wspd',data=we)\n",
    "plt.title('Wind speed (km/h) boxplot')\n",
    "plt.show()"
   ]
  },
  {
   "cell_type": "code",
   "execution_count": 25,
   "metadata": {},
   "outputs": [
    {
     "data": {
      "image/png": "[encoded data removed]",
      "text/plain": [
       "<Figure size 1080x432 with 1 Axes>"
      ]
     },
     "metadata": {
      "needs_background": "light"
     },
     "output_type": "display_data"
    }
   ],
   "source": [
    "fig, ax = plt.subplots(figsize=(15,6)) \n",
    "ax.plot(we.date,we.temp, color='darkblue',label='Temperature')\n",
    "ax.bar(we.date,we.wspd,color='yellow',label='Wind speed')\n",
    "plt.title('Temperature and Winspeed')\n",
    "plt.xticks(rotation=90)\n",
    "plt.grid()\n",
    "plt.legend()\n",
    "plt.show()"
   ]
  },
  {
   "cell_type": "markdown",
   "metadata": {},
   "source": [
    "Berlin it is a windy city. To be noted that the windiest day coincides also with the coldest (these day were punk), we can also observe that after mid-February the temperature raised and got considerably warmer."
   ]
  },
  {
   "cell_type": "code",
   "execution_count": 26,
   "metadata": {},
   "outputs": [
    {
     "data": {
      "image/png": "[encoded data removed]",
      "text/plain": [
       "<Figure size 1080x432 with 1 Axes>"
      ]
     },
     "metadata": {
      "needs_background": "light"
     },
     "output_type": "display_data"
    }
   ],
   "source": [
    "fig, ax = plt.subplots(figsize=(15,6)) \n",
    "ax.plot(we.date,we.temp, color='darkblue',label='Temperature')\n",
    "ax.bar(we.date,we.prcp*15,label='Precipitation') #multiply per 15 just for visualisation\n",
    "\n",
    "plt.title('Temperature and Rain')\n",
    "plt.xticks(rotation=90)\n",
    "plt.grid()\n",
    "plt.legend()\n",
    "plt.show()"
   ]
  },
  {
   "cell_type": "markdown",
   "metadata": {},
   "source": [
    "Luckily enough I didn't expect heavy rainfall. During that winter weather was mostly cloudy or overcast without any major form of precipitation."
   ]
  },
  {
   "cell_type": "code",
   "execution_count": 27,
   "metadata": {},
   "outputs": [
    {
     "data": {
      "image/png": "[encoded data removed]",
      "text/plain": [
       "<Figure size 1080x432 with 1 Axes>"
      ]
     },
     "metadata": {
      "needs_background": "light"
     },
     "output_type": "display_data"
    }
   ],
   "source": [
    "def rolmeantemp(x,y,y1,w,z,z1):\n",
    "    y,y1=y-y.mean(),y1-y1.mean()\n",
    "    fig, ax = plt.subplots(figsize=(15,6)) \n",
    "    rol_meany=y.rolling(w).mean()\n",
    "    rol_meany1=y1.rolling(w).mean()\n",
    "    ax.plot(x,rol_meany, color='darkblue',label=z)\n",
    "    ax.bar(x,rol_meany1, color='darkred', label='Temperature scaled')\n",
    "    plt.xlabel('Date')\n",
    "    plt.ylabel('Differences scaled by their mean')\n",
    "    plt.xticks(rotation=90)\n",
    "    plt.grid()\n",
    "    plt.legend()\n",
    "    plt.title(z1)\n",
    "    plt.savefig('plot.png', dpi=300, bbox_inches='tight')\n",
    "    plt.show()\n",
    "rolmeantemp(we.date,df.nethrs,we.temp/5,15,\n",
    "            'Net/hrs scaled',\n",
    "            '15days rolling mean of working temperature and nethrs scaled by their avarage')"
   ]
  },
  {
   "cell_type": "markdown",
   "metadata": {},
   "source": [
    "These graph is made by scaling the rolling mean of Net/hrs and temperature with their avarage.\n",
    "It is highly informative because we can clearly see that temperature and Net/hrs are negative correlated. The more the temperature drop below its avarage(4.5°C), the more my earning per hour rise above its avarage (12.91 €/h)."
   ]
  },
  {
   "cell_type": "code",
   "execution_count": 28,
   "metadata": {},
   "outputs": [
    {
     "data": {
      "image/png": "[encoded data removed]",
      "text/plain": [
       "<Figure size 1080x432 with 1 Axes>"
      ]
     },
     "metadata": {
      "needs_background": "light"
     },
     "output_type": "display_data"
    }
   ],
   "source": [
    "rolmeantemp(we.date,we.more,we.temp/5,15,\n",
    "            'More_index scaled','15days rolling mean of working temperature and More_indx scaled by their avarage')"
   ]
  },
  {
   "cell_type": "markdown",
   "metadata": {},
   "source": [
    "In the same way as the previous graph also 'More' index is negative correlated with temperature.\n",
    "The lower the temperature the higher the desire from customer to stay home and have their food delivered. As the previous graph, the more the temperature dropped below its avarage (4.5°C), the more I was earning over 10€/hr."
   ]
  },
  {
   "cell_type": "code",
   "execution_count": 29,
   "metadata": {},
   "outputs": [
    {
     "data": {
      "image/png": "[encoded data removed]",
      "text/plain": [
       "<Figure size 1080x432 with 1 Axes>"
      ]
     },
     "metadata": {
      "needs_background": "light"
     },
     "output_type": "display_data"
    }
   ],
   "source": [
    "rolmeantemp(we.date,we.tipdel,we.temp/20,15,\n",
    "            'Tip per delivery scaled','15days rolling mean of working temperature and Tip per Delivery scaled by their avarage')"
   ]
  },
  {
   "cell_type": "markdown",
   "metadata": {},
   "source": [
    "Temperature variable is not able to explain the tip per delivery parameter.\n",
    "The general idea that the courier earn more Tips with cold temperature is incorrect.\n"
   ]
  },
  {
   "cell_type": "code",
   "execution_count": 30,
   "metadata": {},
   "outputs": [],
   "source": [
    "td=pd.DataFrame()\n",
    "td['temp']=we.temp\n",
    "td.loc[td['temp'] <0 , 'class'] = 'under0' #adding 4 different temperature class\n",
    "td.loc[(td['temp'] >=0)&(td['temp'] <4) , 'class'] = '0-4'\n",
    "td.loc[(td['temp'] >=4)&(td['temp'] <8) , 'class'] = '4-8'\n",
    "td.loc[td['temp'] >=8 , 'class'] = 'over8'\n",
    "td['nethrs']=we.nethrs\n",
    "ind=td.groupby('class').mean().sort_values(by=['temp'])['nethrs'].index.tolist()"
   ]
  },
  {
   "cell_type": "code",
   "execution_count": 31,
   "metadata": {},
   "outputs": [
    {
     "data": {
      "image/png": "[encoded data removed]",
      "text/plain": [
       "<Figure size 720x432 with 1 Axes>"
      ]
     },
     "metadata": {
      "needs_background": "light"
     },
     "output_type": "display_data"
    }
   ],
   "source": [
    "fig, ax = plt.subplots(figsize=(10,6))\n",
    "sns.swarmplot(x=td['class'],y=td['nethrs'],order=ind)\n",
    "plt.title('Swarmplot: Net/hrs depending on temperature')\n",
    "plt.show()"
   ]
  },
  {
   "cell_type": "code",
   "execution_count": 32,
   "metadata": {},
   "outputs": [
    {
     "name": "stdout",
     "output_type": "stream",
     "text": [
      "Tips per delivery depending on temperature: \n"
     ]
    },
    {
     "data": {
      "text/plain": [
       "class\n",
       "under0    14.220\n",
       "0-4       13.410\n",
       "4-8       11.970\n",
       "over8     11.505\n",
       "Name: nethrs, dtype: float64"
      ]
     },
     "execution_count": 32,
     "metadata": {},
     "output_type": "execute_result"
    }
   ],
   "source": [
    "print('Tips per delivery depending on temperature: ')\n",
    "td.groupby('class').median().sort_values(by=['temp'])['nethrs']"
   ]
  },
  {
   "cell_type": "markdown",
   "metadata": {},
   "source": [
    "# COCO Weather COndition COde"
   ]
  },
  {
   "cell_type": "code",
   "execution_count": 33,
   "metadata": {},
   "outputs": [
    {
     "data": {
      "image/png": "[encoded data removed]",
      "text/plain": [
       "<Figure size 432x288 with 1 Axes>"
      ]
     },
     "metadata": {
      "needs_background": "light"
     },
     "output_type": "display_data"
    }
   ],
   "source": [
    "ordercoco=('Overcast','Cloudy','Clear','Fair','Light snowfall','Light Rain','Rain Shower','Fog')\n",
    "g=sns.countplot(x='coco',order=ordercoco, palette=\"rocket\",data=we,)\n",
    "g.set_xticklabels(labels=ordercoco,rotation=30)\n",
    "plt.title('''What's the weather like today?''')\n",
    "plt.xlabel('Weather types')\n",
    "plt.ylabel('Days')\n",
    "plt.show()"
   ]
  },
  {
   "cell_type": "markdown",
   "metadata": {},
   "source": [
    "Days during the winter could be tremendously gray and boring.\n",
    "We will group together:\n",
    "* 'Overcast', 'Cloudy' and 'Fog' into 'Cloudy'\n",
    "* 'Clear' and 'Fair' into 'Clear'\n",
    "* 'Light snowfall', 'Light Rain' and 'Rain shower' into 'Precipitation'\n",
    "\n",
    "in order to have more elements inside a group.\n",
    "\n"
   ]
  },
  {
   "cell_type": "code",
   "execution_count": 34,
   "metadata": {},
   "outputs": [],
   "source": [
    "wef=we.copy()\n",
    "wef.loc[(wef.coco=='Overcast') | (wef.coco=='Cloudy') | (wef.coco=='Fog'), 'coco']='Cloudy'"
   ]
  },
  {
   "cell_type": "code",
   "execution_count": 35,
   "metadata": {},
   "outputs": [],
   "source": [
    "wef.loc[(wef.coco=='Clear') | (wef.coco=='Fair'),'coco']='Clear'"
   ]
  },
  {
   "cell_type": "code",
   "execution_count": 36,
   "metadata": {},
   "outputs": [],
   "source": [
    "wef.loc[(wef.coco=='Light snowfall') | (wef.coco=='Light Rain') | (wef.coco=='Rain Shower'),'coco']='Precipitation'"
   ]
  },
  {
   "cell_type": "code",
   "execution_count": 37,
   "metadata": {},
   "outputs": [
    {
     "data": {
      "text/plain": [
       "<AxesSubplot:title={'center':'Counts of day by weather type'}, ylabel='day'>"
      ]
     },
     "execution_count": 37,
     "metadata": {},
     "output_type": "execute_result"
    },
    {
     "data": {
      "image/png": "[encoded data removed]",
      "text/plain": [
       "<Figure size 432x288 with 1 Axes>"
      ]
     },
     "metadata": {},
     "output_type": "display_data"
    }
   ],
   "source": [
    "wef.groupby(['coco']).count().plot(kind='pie', y='day',\n",
    "                                  colors = ['lightblue', 'lightgrey', 'steelblue'],\n",
    "                                  title='Counts of day by weather type')"
   ]
  },
  {
   "cell_type": "code",
   "execution_count": 38,
   "metadata": {},
   "outputs": [
    {
     "data": {
      "text/plain": [
       "Cloudy           65\n",
       "Clear            21\n",
       "Precipitation    16\n",
       "Name: coco, dtype: int64"
      ]
     },
     "execution_count": 38,
     "metadata": {},
     "output_type": "execute_result"
    }
   ],
   "source": [
    "wef.coco.value_counts()"
   ]
  },
  {
   "cell_type": "code",
   "execution_count": 39,
   "metadata": {},
   "outputs": [
    {
     "data": {
      "image/png": "[encoded data removed]",
      "text/plain": [
       "<Figure size 432x288 with 1 Axes>"
      ]
     },
     "metadata": {
      "needs_background": "light"
     },
     "output_type": "display_data"
    }
   ],
   "source": [
    "sns.swarmplot(x=wef['coco'],y=wef['nethrs'] )\n",
    "plt.title('Net/hr depending on type weather')\n",
    "plt.grid()\n",
    "plt.show()"
   ]
  },
  {
   "cell_type": "code",
   "execution_count": 40,
   "metadata": {},
   "outputs": [
    {
     "data": {
      "text/plain": [
       "coco\n",
       "Clear            12.190\n",
       "Cloudy           12.430\n",
       "Precipitation    12.465\n",
       "Name: nethrs, dtype: float64"
      ]
     },
     "execution_count": 40,
     "metadata": {},
     "output_type": "execute_result"
    }
   ],
   "source": [
    "wef.groupby('coco')['nethrs'].median().sort_values()"
   ]
  },
  {
   "cell_type": "code",
   "execution_count": 41,
   "metadata": {},
   "outputs": [
    {
     "data": {
      "text/plain": [
       "coco\n",
       "Clear            12.796190\n",
       "Precipitation    12.912500\n",
       "Cloudy           12.948769\n",
       "Name: nethrs, dtype: float64"
      ]
     },
     "execution_count": 41,
     "metadata": {},
     "output_type": "execute_result"
    }
   ],
   "source": [
    "wef.groupby('coco')['nethrs'].mean().sort_values()"
   ]
  },
  {
   "cell_type": "markdown",
   "metadata": {},
   "source": [
    "From this limited dataset appears clear that weather typology is not supposed to affect my earnings. 'With rain courier earns more' is just a mith.\n"
   ]
  },
  {
   "cell_type": "code",
   "execution_count": 42,
   "metadata": {},
   "outputs": [
    {
     "ename": "NameError",
     "evalue": "name 'pr' is not defined",
     "output_type": "error",
     "traceback": [
      "\u001b[0;31m---------------------------------------------------------------------------\u001b[0m",
      "\u001b[0;31mNameError\u001b[0m                                 Traceback (most recent call last)",
      "Input \u001b[0;32mIn [42]\u001b[0m, in \u001b[0;36m<cell line: 1>\u001b[0;34m()\u001b[0m\n\u001b[0;32m----> 1\u001b[0m (pd\u001b[38;5;241m.\u001b[39mDataFrame([\u001b[43mpr\u001b[49m[\u001b[38;5;124m'\u001b[39m\u001b[38;5;124mclass\u001b[39m\u001b[38;5;124m'\u001b[39m]\u001b[38;5;241m.\u001b[39mvalue_counts()[\u001b[38;5;241m1\u001b[39m], pr[\u001b[38;5;124m'\u001b[39m\u001b[38;5;124mclass\u001b[39m\u001b[38;5;124m'\u001b[39m]\u001b[38;5;241m.\u001b[39mvalue_counts()[\u001b[38;5;241m0\u001b[39m]],\n\u001b[1;32m      2\u001b[0m               index\u001b[38;5;241m=\u001b[39m[\u001b[38;5;124m'\u001b[39m\u001b[38;5;124mNoRain\u001b[39m\u001b[38;5;124m'\u001b[39m,\u001b[38;5;124m'\u001b[39m\u001b[38;5;124mRain\u001b[39m\u001b[38;5;124m'\u001b[39m]))\u001b[38;5;241m.\u001b[39mplot(kind\u001b[38;5;241m=\u001b[39m\u001b[38;5;124m'\u001b[39m\u001b[38;5;124mpie\u001b[39m\u001b[38;5;124m'\u001b[39m,subplots\u001b[38;5;241m=\u001b[39m\u001b[38;5;28;01mTrue\u001b[39;00m)\n",
      "\u001b[0;31mNameError\u001b[0m: name 'pr' is not defined"
     ]
    }
   ],
   "source": [
    "(pd.DataFrame([pr['class'].value_counts()[1], pr['class'].value_counts()[0]],\n",
    "              index=['NoRain','Rain'])).plot(kind='pie',subplots=True)"
   ]
  },
  {
   "cell_type": "code",
   "execution_count": null,
   "metadata": {},
   "outputs": [],
   "source": [
    "sns.swarmplot(x=pr['class'],y=pr['nethrs'])\n",
    "plt.title('Net/hrs depending on precipitation')\n",
    "plt.grid()\n",
    "plt.show()"
   ]
  },
  {
   "cell_type": "code",
   "execution_count": null,
   "metadata": {},
   "outputs": [],
   "source": [
    "ax=sns.boxplot(x=pr['class'],y=pr['nethrs'])\n",
    "plt.title('Boxplot: Net/hrs depending on precipitation')\n",
    "plt.show()"
   ]
  },
  {
   "cell_type": "code",
   "execution_count": null,
   "metadata": {},
   "outputs": [],
   "source": [
    "print('Net/hrs depending on precipitation: \\n',\n",
    "      pr.groupby('class').median().sort_values(by=['prcp'])['nethrs'],'\\n')"
   ]
  },
  {
   "cell_type": "markdown",
   "metadata": {},
   "source": [
    "Interestingly, there is no difference between rainy and not rainy days in the Net/hrs parameter."
   ]
  },
  {
   "cell_type": "markdown",
   "metadata": {
    "tags": []
   },
   "source": [
    "# Is the change the one that matters?\n",
    "My idea was that customers were sensitive not only to the temperature itself, but also to its change. \n",
    "\n",
    "That is, the perception of heat and cold (and therefore the desire to stay at home and order food from their smartphone) were not absolute per se but relative.\n",
    "\n"
   ]
  },
  {
   "cell_type": "code",
   "execution_count": null,
   "metadata": {},
   "outputs": [],
   "source": [
    "diff=pd.DataFrame() #create a new dataframe diff with the difference of temperature,nethrs, more and tipdel\n",
    "diff['date']=we.date\n",
    "diff['dtemp']=we.temp.diff()\n",
    "diff['dnethrs']=we.nethrs.diff()\n",
    "diff['dmore']=we.more.diff()\n",
    "diff['ddel']=we.deliveries.diff()\n",
    "diff['dtipdel']=we.tipdel.diff()  \n",
    "diff=diff.iloc[1:]\n"
   ]
  },
  {
   "cell_type": "markdown",
   "metadata": {},
   "source": [
    "Since I've not worked every consecutive day I should before filtering the non consecutive days, because in those days the weather could have changed a lot."
   ]
  },
  {
   "cell_type": "code",
   "execution_count": null,
   "metadata": {},
   "outputs": [],
   "source": [
    "l=[]\n",
    "for el in we.date.diff().dt.days:\n",
    "    if el ==1: #mean that is consecutive\n",
    "        l.append(True)\n",
    "    else:\n",
    "        l.append(False)\n",
    "l=l[1:]\n",
    "len(diff)-len(diff[l])"
   ]
  },
  {
   "cell_type": "markdown",
   "metadata": {},
   "source": [
    "We loose 19 days (when I was taking a break from work) but we improve the analysis"
   ]
  },
  {
   "cell_type": "code",
   "execution_count": null,
   "metadata": {},
   "outputs": [],
   "source": [
    "diff=diff[l]\n",
    "diff.corr().style.background_gradient(cmap='coolwarm')"
   ]
  },
  {
   "cell_type": "code",
   "execution_count": null,
   "metadata": {},
   "outputs": [],
   "source": [
    "def rgplt(df,x,y,z):\n",
    "    slope, intercept, r_value, p_value, std_err = stats.linregress(df[x],df[y])\n",
    "    ax=sns.regplot(x=x,y=y,data=df, line_kws={'label':\"y= R= {0:.3f}, p_val={1: .3f}\".format(r_value,p_value)})\n",
    "    ax.legend()\n",
    "    plt.title(z)\n",
    "    plt.show()\n",
    "rgplt(diff,'dtemp','dnethrs','Temperature change and Net/hrs change')"
   ]
  },
  {
   "cell_type": "markdown",
   "metadata": {},
   "source": [
    "Sadly the R value is very low, also the p-value of 0.18 suggest that there's little or no correlation and thus makes me rejecting my hypotesis that I was earning more when the temperature dropped from a day to another."
   ]
  },
  {
   "cell_type": "code",
   "execution_count": null,
   "metadata": {},
   "outputs": [],
   "source": [
    "rgplt(diff,'dtemp','dmore','Temperature change and More index change')"
   ]
  },
  {
   "cell_type": "markdown",
   "metadata": {},
   "source": [
    "No correlation at all among the change of the temperature and the change of 'More' index between days."
   ]
  },
  {
   "cell_type": "code",
   "execution_count": null,
   "metadata": {},
   "outputs": [],
   "source": [
    "rgplt(diff,'dtemp','dtipdel','Temperature change and Tip per delivery change')"
   ]
  },
  {
   "cell_type": "markdown",
   "metadata": {},
   "source": [
    "Very little or no correlation among the change of the temperature and the change of tip per deleivery between consecutive days"
   ]
  },
  {
   "cell_type": "markdown",
   "metadata": {},
   "source": [
    "## Using machine learning to determine wich weather variable had higher influence on Net/hrs variable"
   ]
  },
  {
   "cell_type": "code",
   "execution_count": null,
   "metadata": {},
   "outputs": [],
   "source": [
    "from sklearn.model_selection import train_test_split\n",
    "from sklearn.tree import DecisionTreeRegressor\n",
    "from sklearn.ensemble import RandomForestRegressor\n",
    "from sklearn.ensemble import RandomForestClassifier\n",
    "from sklearn.metrics import mean_absolute_error\n",
    "from sklearn.model_selection import cross_val_score\n",
    "from sklearn.metrics import accuracy_score, roc_curve,auc, confusion_matrix, classification_report"
   ]
  },
  {
   "cell_type": "code",
   "execution_count": null,
   "metadata": {},
   "outputs": [],
   "source": [
    "features=['temp','rhum','prcp','wspd','wpgt','pres'] \n",
    "x=we[features]\n",
    "y=we.nethrs\n",
    "x_train, x_test, y_train, y_test = train_test_split(x, y, test_size=0.2, random_state=42)\n",
    "#20% of the data they will be the test 80% train"
   ]
  },
  {
   "cell_type": "code",
   "execution_count": null,
   "metadata": {},
   "outputs": [],
   "source": [
    "Trfmodel = RandomForestRegressor(random_state=1)\n",
    "Trfmodel.fit(x_train,y_train)\n",
    "rfpred= Trfmodel.predict(x_test)\n",
    "mean_absolute_error(y_test,rfpred).round(3)"
   ]
  },
  {
   "cell_type": "markdown",
   "metadata": {},
   "source": [
    "The model on avarage has an error of 1.2€ when predicts net/hrs variable"
   ]
  },
  {
   "cell_type": "code",
   "execution_count": null,
   "metadata": {},
   "outputs": [],
   "source": [
    "importances = Trfmodel.feature_importances_\n",
    "indices = np.argsort(importances)\n",
    "features = x_train.columns"
   ]
  },
  {
   "cell_type": "code",
   "execution_count": null,
   "metadata": {},
   "outputs": [],
   "source": [
    "plt.title('Feature Importance model Net/hrs')\n",
    "plt.barh(range(len(indices)), importances[indices], align='center')\n",
    "plt.yticks(range(len(features)), [features[i] for i in indices])\n",
    "plt.xlabel('Relative Importance')\n",
    "plt.show()"
   ]
  },
  {
   "cell_type": "markdown",
   "metadata": {},
   "source": [
    "We see what we already know: \n",
    "* Temperature seems to have a major role determing the value of Net/hrs (the parameter that is influenced the most by weather)\n",
    "* Also rhum (relative humidity) seems to play a contribute, we should remember though that this parameter it is heavily influenced by temperature.\n",
    "* It is difficult to say if the other parameter are useful and statistical relevant predicitors.\n",
    "* It is interesting realise how little precipitation parameter is contributing to determine Net/hrs."
   ]
  }
 ],
 "metadata": {
  "kernelspec": {
   "display_name": "Python 3 (ipykernel)",
   "language": "python",
   "name": "python3"
  },
  "language_info": {
   "codemirror_mode": {
    "name": "ipython",
    "version": 3
   },
   "file_extension": ".py",
   "mimetype": "text/x-python",
   "name": "python",
   "nbconvert_exporter": "python",
   "pygments_lexer": "ipython3",
   "version": "3.9.12"
  }
 },
 "nbformat": 4,
 "nbformat_minor": 4
}
